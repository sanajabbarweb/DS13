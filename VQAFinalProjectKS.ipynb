{
  "cells": [
    {
      "cell_type": "code",
      "execution_count": null,
      "metadata": {
        "colab": {
          "base_uri": "https://localhost:8080/"
        },
        "id": "SvoJRXv-XYg2",
        "outputId": "696d517d-571e-4033-fc95-85822f188bdf"
      },
      "outputs": [
        {
          "output_type": "stream",
          "name": "stdout",
          "text": [
            "Mounted at /content/drive\n"
          ]
        }
      ],
      "source": [
        "from google.colab import drive\n",
        "\n",
        "# Try using drive._mount instead of drive.mount\n",
        "drive.mount('/content/drive')"
      ]
    },
    {
      "cell_type": "code",
      "execution_count": null,
      "metadata": {
        "colab": {
          "base_uri": "https://localhost:8080/"
        },
        "id": "Tsw_gwXHbCbo",
        "outputId": "ecd5db53-c950-4f82-d16b-362ac0039afa"
      },
      "outputs": [
        {
          "output_type": "stream",
          "name": "stdout",
          "text": [
            "Total no. of question are 60000\n",
            "Total no. of answers are 60000\n"
          ]
        }
      ],
      "source": [
        "import json\n",
        "\n",
        "que = json.load(open('/content/drive/MyDrive/FinalProjectKS/OpenEnded_abstract_v002_train2015_questions.json', 'r'))\n",
        "ans = json.load(open('/content/drive/MyDrive/FinalProjectKS/abstract_v002_train2015_annotations.json', 'r'))\n",
        "\n",
        "print(\"Total no. of question are\",len(que['questions']))\n",
        "print(\"Total no. of answers are\",len(ans['annotations']))\n"
      ]
    },
    {
      "cell_type": "code",
      "execution_count": null,
      "metadata": {
        "id": "aMSQceX-aJqw"
      },
      "outputs": [],
      "source": [
        "#!cd drive/My\\ Drive\n",
        "#from os import listdir\n",
        "#image_dir = 'train2015'\n",
        "#images= listdir(image_dir)"
      ]
    },
    {
      "cell_type": "code",
      "execution_count": null,
      "metadata": {
        "id": "1oSYLXQ4bHEg"
      },
      "outputs": [],
      "source": [
        "import os\n",
        "from os import listdir\n",
        "\n",
        "# Change to the correct directory using os.chdir\n",
        "os.chdir('/content/drive/MyDrive/FinalProjectKS/train2015')\n",
        "\n",
        "# Now list the files in the current directory\n",
        "image_dir = '.'  # Use '.' to represent the current directory\n",
        "images = listdir(image_dir)"
      ]
    },
    {
      "cell_type": "code",
      "execution_count": null,
      "metadata": {
        "colab": {
          "base_uri": "https://localhost:8080/"
        },
        "id": "twW42so_8-A8",
        "outputId": "015cb868-78f1-4d85-c691-ade30a57116b"
      },
      "outputs": [
        {
          "output_type": "stream",
          "name": "stdout",
          "text": [
            "Requirement already satisfied: tqdm in /usr/local/lib/python3.10/dist-packages (4.67.1)\n"
          ]
        }
      ],
      "source": [
        "!pip install tqdm # Install the tqdm package using pip\n",
        "\n",
        "from tqdm import tqdm # Import the tqdm function from the tqdm module\n",
        "import pandas as pd"
      ]
    },
    {
      "cell_type": "code",
      "execution_count": null,
      "metadata": {
        "colab": {
          "base_uri": "https://localhost:8080/",
          "height": 224
        },
        "id": "ef6HdJJCjGQE",
        "outputId": "87514f22-57df-4a19-9203-8cfd8269eb61"
      },
      "outputs": [
        {
          "output_type": "stream",
          "name": "stderr",
          "text": [
            "100%|██████████| 60000/60000 [00:00<00:00, 361717.21it/s]\n"
          ]
        },
        {
          "output_type": "execute_result",
          "data": {
            "text/plain": [
              "                                     im_path                         ques  \\\n",
              "0  train2015/COCO_train2015_000000011779.jpg           Who looks happier?   \n",
              "1  train2015/COCO_train2015_000000011779.jpg  Where is the woman sitting?   \n",
              "2  train2015/COCO_train2015_000000011779.jpg    Where is the man sitting?   \n",
              "3  train2015/COCO_train2015_000000005536.jpg          Is this man hungry?   \n",
              "4  train2015/COCO_train2015_000000005536.jpg  What kind of drink is that?   \n",
              "\n",
              "      answ  \n",
              "0      man  \n",
              "1  blanket  \n",
              "2    bench  \n",
              "3      yes  \n",
              "4     soda  "
            ],
            "text/html": [
              "\n",
              "  <div id=\"df-64bdb85d-e8df-4006-9152-5fe5be54204c\" class=\"colab-df-container\">\n",
              "    <div>\n",
              "<style scoped>\n",
              "    .dataframe tbody tr th:only-of-type {\n",
              "        vertical-align: middle;\n",
              "    }\n",
              "\n",
              "    .dataframe tbody tr th {\n",
              "        vertical-align: top;\n",
              "    }\n",
              "\n",
              "    .dataframe thead th {\n",
              "        text-align: right;\n",
              "    }\n",
              "</style>\n",
              "<table border=\"1\" class=\"dataframe\">\n",
              "  <thead>\n",
              "    <tr style=\"text-align: right;\">\n",
              "      <th></th>\n",
              "      <th>im_path</th>\n",
              "      <th>ques</th>\n",
              "      <th>answ</th>\n",
              "    </tr>\n",
              "  </thead>\n",
              "  <tbody>\n",
              "    <tr>\n",
              "      <th>0</th>\n",
              "      <td>train2015/COCO_train2015_000000011779.jpg</td>\n",
              "      <td>Who looks happier?</td>\n",
              "      <td>man</td>\n",
              "    </tr>\n",
              "    <tr>\n",
              "      <th>1</th>\n",
              "      <td>train2015/COCO_train2015_000000011779.jpg</td>\n",
              "      <td>Where is the woman sitting?</td>\n",
              "      <td>blanket</td>\n",
              "    </tr>\n",
              "    <tr>\n",
              "      <th>2</th>\n",
              "      <td>train2015/COCO_train2015_000000011779.jpg</td>\n",
              "      <td>Where is the man sitting?</td>\n",
              "      <td>bench</td>\n",
              "    </tr>\n",
              "    <tr>\n",
              "      <th>3</th>\n",
              "      <td>train2015/COCO_train2015_000000005536.jpg</td>\n",
              "      <td>Is this man hungry?</td>\n",
              "      <td>yes</td>\n",
              "    </tr>\n",
              "    <tr>\n",
              "      <th>4</th>\n",
              "      <td>train2015/COCO_train2015_000000005536.jpg</td>\n",
              "      <td>What kind of drink is that?</td>\n",
              "      <td>soda</td>\n",
              "    </tr>\n",
              "  </tbody>\n",
              "</table>\n",
              "</div>\n",
              "    <div class=\"colab-df-buttons\">\n",
              "\n",
              "  <div class=\"colab-df-container\">\n",
              "    <button class=\"colab-df-convert\" onclick=\"convertToInteractive('df-64bdb85d-e8df-4006-9152-5fe5be54204c')\"\n",
              "            title=\"Convert this dataframe to an interactive table.\"\n",
              "            style=\"display:none;\">\n",
              "\n",
              "  <svg xmlns=\"http://www.w3.org/2000/svg\" height=\"24px\" viewBox=\"0 -960 960 960\">\n",
              "    <path d=\"M120-120v-720h720v720H120Zm60-500h600v-160H180v160Zm220 220h160v-160H400v160Zm0 220h160v-160H400v160ZM180-400h160v-160H180v160Zm440 0h160v-160H620v160ZM180-180h160v-160H180v160Zm440 0h160v-160H620v160Z\"/>\n",
              "  </svg>\n",
              "    </button>\n",
              "\n",
              "  <style>\n",
              "    .colab-df-container {\n",
              "      display:flex;\n",
              "      gap: 12px;\n",
              "    }\n",
              "\n",
              "    .colab-df-convert {\n",
              "      background-color: #E8F0FE;\n",
              "      border: none;\n",
              "      border-radius: 50%;\n",
              "      cursor: pointer;\n",
              "      display: none;\n",
              "      fill: #1967D2;\n",
              "      height: 32px;\n",
              "      padding: 0 0 0 0;\n",
              "      width: 32px;\n",
              "    }\n",
              "\n",
              "    .colab-df-convert:hover {\n",
              "      background-color: #E2EBFA;\n",
              "      box-shadow: 0px 1px 2px rgba(60, 64, 67, 0.3), 0px 1px 3px 1px rgba(60, 64, 67, 0.15);\n",
              "      fill: #174EA6;\n",
              "    }\n",
              "\n",
              "    .colab-df-buttons div {\n",
              "      margin-bottom: 4px;\n",
              "    }\n",
              "\n",
              "    [theme=dark] .colab-df-convert {\n",
              "      background-color: #3B4455;\n",
              "      fill: #D2E3FC;\n",
              "    }\n",
              "\n",
              "    [theme=dark] .colab-df-convert:hover {\n",
              "      background-color: #434B5C;\n",
              "      box-shadow: 0px 1px 3px 1px rgba(0, 0, 0, 0.15);\n",
              "      filter: drop-shadow(0px 1px 2px rgba(0, 0, 0, 0.3));\n",
              "      fill: #FFFFFF;\n",
              "    }\n",
              "  </style>\n",
              "\n",
              "    <script>\n",
              "      const buttonEl =\n",
              "        document.querySelector('#df-64bdb85d-e8df-4006-9152-5fe5be54204c button.colab-df-convert');\n",
              "      buttonEl.style.display =\n",
              "        google.colab.kernel.accessAllowed ? 'block' : 'none';\n",
              "\n",
              "      async function convertToInteractive(key) {\n",
              "        const element = document.querySelector('#df-64bdb85d-e8df-4006-9152-5fe5be54204c');\n",
              "        const dataTable =\n",
              "          await google.colab.kernel.invokeFunction('convertToInteractive',\n",
              "                                                    [key], {});\n",
              "        if (!dataTable) return;\n",
              "\n",
              "        const docLinkHtml = 'Like what you see? Visit the ' +\n",
              "          '<a target=\"_blank\" href=https://colab.research.google.com/notebooks/data_table.ipynb>data table notebook</a>'\n",
              "          + ' to learn more about interactive tables.';\n",
              "        element.innerHTML = '';\n",
              "        dataTable['output_type'] = 'display_data';\n",
              "        await google.colab.output.renderOutput(dataTable, element);\n",
              "        const docLink = document.createElement('div');\n",
              "        docLink.innerHTML = docLinkHtml;\n",
              "        element.appendChild(docLink);\n",
              "      }\n",
              "    </script>\n",
              "  </div>\n",
              "\n",
              "\n",
              "<div id=\"df-539cf916-fec1-419f-ade1-cc397bf118ee\">\n",
              "  <button class=\"colab-df-quickchart\" onclick=\"quickchart('df-539cf916-fec1-419f-ade1-cc397bf118ee')\"\n",
              "            title=\"Suggest charts\"\n",
              "            style=\"display:none;\">\n",
              "\n",
              "<svg xmlns=\"http://www.w3.org/2000/svg\" height=\"24px\"viewBox=\"0 0 24 24\"\n",
              "     width=\"24px\">\n",
              "    <g>\n",
              "        <path d=\"M19 3H5c-1.1 0-2 .9-2 2v14c0 1.1.9 2 2 2h14c1.1 0 2-.9 2-2V5c0-1.1-.9-2-2-2zM9 17H7v-7h2v7zm4 0h-2V7h2v10zm4 0h-2v-4h2v4z\"/>\n",
              "    </g>\n",
              "</svg>\n",
              "  </button>\n",
              "\n",
              "<style>\n",
              "  .colab-df-quickchart {\n",
              "      --bg-color: #E8F0FE;\n",
              "      --fill-color: #1967D2;\n",
              "      --hover-bg-color: #E2EBFA;\n",
              "      --hover-fill-color: #174EA6;\n",
              "      --disabled-fill-color: #AAA;\n",
              "      --disabled-bg-color: #DDD;\n",
              "  }\n",
              "\n",
              "  [theme=dark] .colab-df-quickchart {\n",
              "      --bg-color: #3B4455;\n",
              "      --fill-color: #D2E3FC;\n",
              "      --hover-bg-color: #434B5C;\n",
              "      --hover-fill-color: #FFFFFF;\n",
              "      --disabled-bg-color: #3B4455;\n",
              "      --disabled-fill-color: #666;\n",
              "  }\n",
              "\n",
              "  .colab-df-quickchart {\n",
              "    background-color: var(--bg-color);\n",
              "    border: none;\n",
              "    border-radius: 50%;\n",
              "    cursor: pointer;\n",
              "    display: none;\n",
              "    fill: var(--fill-color);\n",
              "    height: 32px;\n",
              "    padding: 0;\n",
              "    width: 32px;\n",
              "  }\n",
              "\n",
              "  .colab-df-quickchart:hover {\n",
              "    background-color: var(--hover-bg-color);\n",
              "    box-shadow: 0 1px 2px rgba(60, 64, 67, 0.3), 0 1px 3px 1px rgba(60, 64, 67, 0.15);\n",
              "    fill: var(--button-hover-fill-color);\n",
              "  }\n",
              "\n",
              "  .colab-df-quickchart-complete:disabled,\n",
              "  .colab-df-quickchart-complete:disabled:hover {\n",
              "    background-color: var(--disabled-bg-color);\n",
              "    fill: var(--disabled-fill-color);\n",
              "    box-shadow: none;\n",
              "  }\n",
              "\n",
              "  .colab-df-spinner {\n",
              "    border: 2px solid var(--fill-color);\n",
              "    border-color: transparent;\n",
              "    border-bottom-color: var(--fill-color);\n",
              "    animation:\n",
              "      spin 1s steps(1) infinite;\n",
              "  }\n",
              "\n",
              "  @keyframes spin {\n",
              "    0% {\n",
              "      border-color: transparent;\n",
              "      border-bottom-color: var(--fill-color);\n",
              "      border-left-color: var(--fill-color);\n",
              "    }\n",
              "    20% {\n",
              "      border-color: transparent;\n",
              "      border-left-color: var(--fill-color);\n",
              "      border-top-color: var(--fill-color);\n",
              "    }\n",
              "    30% {\n",
              "      border-color: transparent;\n",
              "      border-left-color: var(--fill-color);\n",
              "      border-top-color: var(--fill-color);\n",
              "      border-right-color: var(--fill-color);\n",
              "    }\n",
              "    40% {\n",
              "      border-color: transparent;\n",
              "      border-right-color: var(--fill-color);\n",
              "      border-top-color: var(--fill-color);\n",
              "    }\n",
              "    60% {\n",
              "      border-color: transparent;\n",
              "      border-right-color: var(--fill-color);\n",
              "    }\n",
              "    80% {\n",
              "      border-color: transparent;\n",
              "      border-right-color: var(--fill-color);\n",
              "      border-bottom-color: var(--fill-color);\n",
              "    }\n",
              "    90% {\n",
              "      border-color: transparent;\n",
              "      border-bottom-color: var(--fill-color);\n",
              "    }\n",
              "  }\n",
              "</style>\n",
              "\n",
              "  <script>\n",
              "    async function quickchart(key) {\n",
              "      const quickchartButtonEl =\n",
              "        document.querySelector('#' + key + ' button');\n",
              "      quickchartButtonEl.disabled = true;  // To prevent multiple clicks.\n",
              "      quickchartButtonEl.classList.add('colab-df-spinner');\n",
              "      try {\n",
              "        const charts = await google.colab.kernel.invokeFunction(\n",
              "            'suggestCharts', [key], {});\n",
              "      } catch (error) {\n",
              "        console.error('Error during call to suggestCharts:', error);\n",
              "      }\n",
              "      quickchartButtonEl.classList.remove('colab-df-spinner');\n",
              "      quickchartButtonEl.classList.add('colab-df-quickchart-complete');\n",
              "    }\n",
              "    (() => {\n",
              "      let quickchartButtonEl =\n",
              "        document.querySelector('#df-539cf916-fec1-419f-ade1-cc397bf118ee button');\n",
              "      quickchartButtonEl.style.display =\n",
              "        google.colab.kernel.accessAllowed ? 'block' : 'none';\n",
              "    })();\n",
              "  </script>\n",
              "</div>\n",
              "\n",
              "    </div>\n",
              "  </div>\n"
            ],
            "application/vnd.google.colaboratory.intrinsic+json": {
              "type": "dataframe",
              "variable_name": "total_data",
              "summary": "{\n  \"name\": \"total_data\",\n  \"rows\": 60000,\n  \"fields\": [\n    {\n      \"column\": \"im_path\",\n      \"properties\": {\n        \"dtype\": \"category\",\n        \"num_unique_values\": 20000,\n        \"samples\": [\n          \"train2015/COCO_train2015_000000015209.jpg\",\n          \"train2015/COCO_train2015_000000001943.jpg\",\n          \"train2015/COCO_train2015_000000003582.jpg\"\n        ],\n        \"semantic_type\": \"\",\n        \"description\": \"\"\n      }\n    },\n    {\n      \"column\": \"ques\",\n      \"properties\": {\n        \"dtype\": \"string\",\n        \"num_unique_values\": 34841,\n        \"samples\": [\n          \"Is there a doll in the doll house?\",\n          \"Are the curtains exactly the same?\",\n          \"Does this scene take place in summer?\"\n        ],\n        \"semantic_type\": \"\",\n        \"description\": \"\"\n      }\n    },\n    {\n      \"column\": \"answ\",\n      \"properties\": {\n        \"dtype\": \"category\",\n        \"num_unique_values\": 2521,\n        \"samples\": [\n          \"playing soccer\",\n          \"she fell\",\n          \"sitting on floor\"\n        ],\n        \"semantic_type\": \"\",\n        \"description\": \"\"\n      }\n    }\n  ]\n}"
            }
          },
          "metadata": {},
          "execution_count": 6
        }
      ],
      "source": [
        "\n",
        "subtype='train2015'\n",
        "data=[]\n",
        "imdir='%s/COCO_%s_%012d.jpg'\n",
        "for i in tqdm(range(len(ans['annotations']))):\n",
        "    answ=ans['annotations'][i]['multiple_choice_answer']\n",
        "    im_path=imdir%(subtype,subtype,ans['annotations'][i]['image_id'])\n",
        "    ques=que['questions'][i]['question']\n",
        "    data.append({'im_path':im_path,'ques':ques,'answ':answ})\n",
        "total_data=pd.DataFrame(data)\n",
        "total_data.head()"
      ]
    },
    {
      "cell_type": "code",
      "execution_count": null,
      "metadata": {
        "colab": {
          "base_uri": "https://localhost:8080/"
        },
        "id": "QEUCuEEk8bK9",
        "outputId": "d4ae81d2-6d09-4ac8-e7e7-eaccc4bb8c92"
      },
      "outputs": [
        {
          "output_type": "execute_result",
          "data": {
            "text/plain": [
              "(60000, 3)"
            ]
          },
          "metadata": {},
          "execution_count": 7
        }
      ],
      "source": [
        "total_data.shape\n"
      ]
    },
    {
      "cell_type": "code",
      "execution_count": null,
      "metadata": {
        "colab": {
          "base_uri": "https://localhost:8080/",
          "height": 130
        },
        "id": "iOib21Lo8gr_",
        "outputId": "28613ee0-93ff-4ae3-dc51-93cf031eed56"
      },
      "outputs": [
        {
          "output_type": "stream",
          "name": "stderr",
          "text": [
            "100%|██████████| 60000/60000 [00:01<00:00, 56525.36it/s]\n"
          ]
        },
        {
          "output_type": "execute_result",
          "data": {
            "text/plain": [
              "                                     im_path                         ques  \\\n",
              "0  train2015/COCO_train2015_000000011779.jpg           who looks happier?   \n",
              "1  train2015/COCO_train2015_000000011779.jpg  where is the woman sitting?   \n",
              "\n",
              "      answ  \n",
              "0      man  \n",
              "1  blanket  "
            ],
            "text/html": [
              "\n",
              "  <div id=\"df-ec2ba339-2050-4e0c-95d1-35f5cfc21c60\" class=\"colab-df-container\">\n",
              "    <div>\n",
              "<style scoped>\n",
              "    .dataframe tbody tr th:only-of-type {\n",
              "        vertical-align: middle;\n",
              "    }\n",
              "\n",
              "    .dataframe tbody tr th {\n",
              "        vertical-align: top;\n",
              "    }\n",
              "\n",
              "    .dataframe thead th {\n",
              "        text-align: right;\n",
              "    }\n",
              "</style>\n",
              "<table border=\"1\" class=\"dataframe\">\n",
              "  <thead>\n",
              "    <tr style=\"text-align: right;\">\n",
              "      <th></th>\n",
              "      <th>im_path</th>\n",
              "      <th>ques</th>\n",
              "      <th>answ</th>\n",
              "    </tr>\n",
              "  </thead>\n",
              "  <tbody>\n",
              "    <tr>\n",
              "      <th>0</th>\n",
              "      <td>train2015/COCO_train2015_000000011779.jpg</td>\n",
              "      <td>who looks happier?</td>\n",
              "      <td>man</td>\n",
              "    </tr>\n",
              "    <tr>\n",
              "      <th>1</th>\n",
              "      <td>train2015/COCO_train2015_000000011779.jpg</td>\n",
              "      <td>where is the woman sitting?</td>\n",
              "      <td>blanket</td>\n",
              "    </tr>\n",
              "  </tbody>\n",
              "</table>\n",
              "</div>\n",
              "    <div class=\"colab-df-buttons\">\n",
              "\n",
              "  <div class=\"colab-df-container\">\n",
              "    <button class=\"colab-df-convert\" onclick=\"convertToInteractive('df-ec2ba339-2050-4e0c-95d1-35f5cfc21c60')\"\n",
              "            title=\"Convert this dataframe to an interactive table.\"\n",
              "            style=\"display:none;\">\n",
              "\n",
              "  <svg xmlns=\"http://www.w3.org/2000/svg\" height=\"24px\" viewBox=\"0 -960 960 960\">\n",
              "    <path d=\"M120-120v-720h720v720H120Zm60-500h600v-160H180v160Zm220 220h160v-160H400v160Zm0 220h160v-160H400v160ZM180-400h160v-160H180v160Zm440 0h160v-160H620v160ZM180-180h160v-160H180v160Zm440 0h160v-160H620v160Z\"/>\n",
              "  </svg>\n",
              "    </button>\n",
              "\n",
              "  <style>\n",
              "    .colab-df-container {\n",
              "      display:flex;\n",
              "      gap: 12px;\n",
              "    }\n",
              "\n",
              "    .colab-df-convert {\n",
              "      background-color: #E8F0FE;\n",
              "      border: none;\n",
              "      border-radius: 50%;\n",
              "      cursor: pointer;\n",
              "      display: none;\n",
              "      fill: #1967D2;\n",
              "      height: 32px;\n",
              "      padding: 0 0 0 0;\n",
              "      width: 32px;\n",
              "    }\n",
              "\n",
              "    .colab-df-convert:hover {\n",
              "      background-color: #E2EBFA;\n",
              "      box-shadow: 0px 1px 2px rgba(60, 64, 67, 0.3), 0px 1px 3px 1px rgba(60, 64, 67, 0.15);\n",
              "      fill: #174EA6;\n",
              "    }\n",
              "\n",
              "    .colab-df-buttons div {\n",
              "      margin-bottom: 4px;\n",
              "    }\n",
              "\n",
              "    [theme=dark] .colab-df-convert {\n",
              "      background-color: #3B4455;\n",
              "      fill: #D2E3FC;\n",
              "    }\n",
              "\n",
              "    [theme=dark] .colab-df-convert:hover {\n",
              "      background-color: #434B5C;\n",
              "      box-shadow: 0px 1px 3px 1px rgba(0, 0, 0, 0.15);\n",
              "      filter: drop-shadow(0px 1px 2px rgba(0, 0, 0, 0.3));\n",
              "      fill: #FFFFFF;\n",
              "    }\n",
              "  </style>\n",
              "\n",
              "    <script>\n",
              "      const buttonEl =\n",
              "        document.querySelector('#df-ec2ba339-2050-4e0c-95d1-35f5cfc21c60 button.colab-df-convert');\n",
              "      buttonEl.style.display =\n",
              "        google.colab.kernel.accessAllowed ? 'block' : 'none';\n",
              "\n",
              "      async function convertToInteractive(key) {\n",
              "        const element = document.querySelector('#df-ec2ba339-2050-4e0c-95d1-35f5cfc21c60');\n",
              "        const dataTable =\n",
              "          await google.colab.kernel.invokeFunction('convertToInteractive',\n",
              "                                                    [key], {});\n",
              "        if (!dataTable) return;\n",
              "\n",
              "        const docLinkHtml = 'Like what you see? Visit the ' +\n",
              "          '<a target=\"_blank\" href=https://colab.research.google.com/notebooks/data_table.ipynb>data table notebook</a>'\n",
              "          + ' to learn more about interactive tables.';\n",
              "        element.innerHTML = '';\n",
              "        dataTable['output_type'] = 'display_data';\n",
              "        await google.colab.output.renderOutput(dataTable, element);\n",
              "        const docLink = document.createElement('div');\n",
              "        docLink.innerHTML = docLinkHtml;\n",
              "        element.appendChild(docLink);\n",
              "      }\n",
              "    </script>\n",
              "  </div>\n",
              "\n",
              "\n",
              "<div id=\"df-d252093d-e797-4171-b849-d4cbe74c0039\">\n",
              "  <button class=\"colab-df-quickchart\" onclick=\"quickchart('df-d252093d-e797-4171-b849-d4cbe74c0039')\"\n",
              "            title=\"Suggest charts\"\n",
              "            style=\"display:none;\">\n",
              "\n",
              "<svg xmlns=\"http://www.w3.org/2000/svg\" height=\"24px\"viewBox=\"0 0 24 24\"\n",
              "     width=\"24px\">\n",
              "    <g>\n",
              "        <path d=\"M19 3H5c-1.1 0-2 .9-2 2v14c0 1.1.9 2 2 2h14c1.1 0 2-.9 2-2V5c0-1.1-.9-2-2-2zM9 17H7v-7h2v7zm4 0h-2V7h2v10zm4 0h-2v-4h2v4z\"/>\n",
              "    </g>\n",
              "</svg>\n",
              "  </button>\n",
              "\n",
              "<style>\n",
              "  .colab-df-quickchart {\n",
              "      --bg-color: #E8F0FE;\n",
              "      --fill-color: #1967D2;\n",
              "      --hover-bg-color: #E2EBFA;\n",
              "      --hover-fill-color: #174EA6;\n",
              "      --disabled-fill-color: #AAA;\n",
              "      --disabled-bg-color: #DDD;\n",
              "  }\n",
              "\n",
              "  [theme=dark] .colab-df-quickchart {\n",
              "      --bg-color: #3B4455;\n",
              "      --fill-color: #D2E3FC;\n",
              "      --hover-bg-color: #434B5C;\n",
              "      --hover-fill-color: #FFFFFF;\n",
              "      --disabled-bg-color: #3B4455;\n",
              "      --disabled-fill-color: #666;\n",
              "  }\n",
              "\n",
              "  .colab-df-quickchart {\n",
              "    background-color: var(--bg-color);\n",
              "    border: none;\n",
              "    border-radius: 50%;\n",
              "    cursor: pointer;\n",
              "    display: none;\n",
              "    fill: var(--fill-color);\n",
              "    height: 32px;\n",
              "    padding: 0;\n",
              "    width: 32px;\n",
              "  }\n",
              "\n",
              "  .colab-df-quickchart:hover {\n",
              "    background-color: var(--hover-bg-color);\n",
              "    box-shadow: 0 1px 2px rgba(60, 64, 67, 0.3), 0 1px 3px 1px rgba(60, 64, 67, 0.15);\n",
              "    fill: var(--button-hover-fill-color);\n",
              "  }\n",
              "\n",
              "  .colab-df-quickchart-complete:disabled,\n",
              "  .colab-df-quickchart-complete:disabled:hover {\n",
              "    background-color: var(--disabled-bg-color);\n",
              "    fill: var(--disabled-fill-color);\n",
              "    box-shadow: none;\n",
              "  }\n",
              "\n",
              "  .colab-df-spinner {\n",
              "    border: 2px solid var(--fill-color);\n",
              "    border-color: transparent;\n",
              "    border-bottom-color: var(--fill-color);\n",
              "    animation:\n",
              "      spin 1s steps(1) infinite;\n",
              "  }\n",
              "\n",
              "  @keyframes spin {\n",
              "    0% {\n",
              "      border-color: transparent;\n",
              "      border-bottom-color: var(--fill-color);\n",
              "      border-left-color: var(--fill-color);\n",
              "    }\n",
              "    20% {\n",
              "      border-color: transparent;\n",
              "      border-left-color: var(--fill-color);\n",
              "      border-top-color: var(--fill-color);\n",
              "    }\n",
              "    30% {\n",
              "      border-color: transparent;\n",
              "      border-left-color: var(--fill-color);\n",
              "      border-top-color: var(--fill-color);\n",
              "      border-right-color: var(--fill-color);\n",
              "    }\n",
              "    40% {\n",
              "      border-color: transparent;\n",
              "      border-right-color: var(--fill-color);\n",
              "      border-top-color: var(--fill-color);\n",
              "    }\n",
              "    60% {\n",
              "      border-color: transparent;\n",
              "      border-right-color: var(--fill-color);\n",
              "    }\n",
              "    80% {\n",
              "      border-color: transparent;\n",
              "      border-right-color: var(--fill-color);\n",
              "      border-bottom-color: var(--fill-color);\n",
              "    }\n",
              "    90% {\n",
              "      border-color: transparent;\n",
              "      border-bottom-color: var(--fill-color);\n",
              "    }\n",
              "  }\n",
              "</style>\n",
              "\n",
              "  <script>\n",
              "    async function quickchart(key) {\n",
              "      const quickchartButtonEl =\n",
              "        document.querySelector('#' + key + ' button');\n",
              "      quickchartButtonEl.disabled = true;  // To prevent multiple clicks.\n",
              "      quickchartButtonEl.classList.add('colab-df-spinner');\n",
              "      try {\n",
              "        const charts = await google.colab.kernel.invokeFunction(\n",
              "            'suggestCharts', [key], {});\n",
              "      } catch (error) {\n",
              "        console.error('Error during call to suggestCharts:', error);\n",
              "      }\n",
              "      quickchartButtonEl.classList.remove('colab-df-spinner');\n",
              "      quickchartButtonEl.classList.add('colab-df-quickchart-complete');\n",
              "    }\n",
              "    (() => {\n",
              "      let quickchartButtonEl =\n",
              "        document.querySelector('#df-d252093d-e797-4171-b849-d4cbe74c0039 button');\n",
              "      quickchartButtonEl.style.display =\n",
              "        google.colab.kernel.accessAllowed ? 'block' : 'none';\n",
              "    })();\n",
              "  </script>\n",
              "</div>\n",
              "\n",
              "    </div>\n",
              "  </div>\n"
            ],
            "application/vnd.google.colaboratory.intrinsic+json": {
              "type": "dataframe",
              "variable_name": "total_data",
              "summary": "{\n  \"name\": \"total_data\",\n  \"rows\": 60000,\n  \"fields\": [\n    {\n      \"column\": \"im_path\",\n      \"properties\": {\n        \"dtype\": \"category\",\n        \"num_unique_values\": 20000,\n        \"samples\": [\n          \"train2015/COCO_train2015_000000015209.jpg\",\n          \"train2015/COCO_train2015_000000001943.jpg\",\n          \"train2015/COCO_train2015_000000003582.jpg\"\n        ],\n        \"semantic_type\": \"\",\n        \"description\": \"\"\n      }\n    },\n    {\n      \"column\": \"ques\",\n      \"properties\": {\n        \"dtype\": \"string\",\n        \"num_unique_values\": 34732,\n        \"samples\": [\n          \"is this man feeding the ducks?\",\n          \"which picture is the largest?\",\n          \"is there an insect flying around the tree?\"\n        ],\n        \"semantic_type\": \"\",\n        \"description\": \"\"\n      }\n    },\n    {\n      \"column\": \"answ\",\n      \"properties\": {\n        \"dtype\": \"category\",\n        \"num_unique_values\": 2521,\n        \"samples\": [\n          \"playing soccer\",\n          \"she fell\",\n          \"sitting on floor\"\n        ],\n        \"semantic_type\": \"\",\n        \"description\": \"\"\n      }\n    }\n  ]\n}"
            }
          },
          "metadata": {},
          "execution_count": 8
        }
      ],
      "source": [
        "import re\n",
        "\n",
        "def decontracted(phrase):\n",
        "    # specific\n",
        "    phrase = re.sub(r\"won't\", \"will not\", phrase)\n",
        "    phrase = re.sub(r\"can\\'t\", \"can not\", phrase)\n",
        "\n",
        "    # general\n",
        "    phrase = re.sub(r\"n\\'t\", \" not\", phrase)\n",
        "    phrase = re.sub(r\"\\'re\", \" are\", phrase)\n",
        "    phrase = re.sub(r\"\\'s\", \" is\", phrase)\n",
        "    phrase = re.sub(r\"\\'d\", \" would\", phrase)\n",
        "    phrase = re.sub(r\"\\'ll\", \" will\", phrase)\n",
        "    phrase = re.sub(r\"\\'t\", \" not\", phrase)\n",
        "    phrase = re.sub(r\"\\'ve\", \" have\", phrase)\n",
        "    phrase = re.sub(r\"\\'m\", \" am\", phrase)\n",
        "    return phrase\n",
        "\n",
        "\n",
        "preprocessed_questions = []\n",
        "for question in tqdm(total_data['ques'].values):\n",
        "    que = decontracted(question)\n",
        "    preprocessed_questions.append(que.lower().strip())\n",
        "total_data['ques']=preprocessed_questions\n",
        "total_data.head(2)"
      ]
    },
    {
      "cell_type": "code",
      "execution_count": null,
      "metadata": {
        "id": "nF-4YeU8UupI"
      },
      "outputs": [],
      "source": [
        "total_data=total_data.reset_index(drop=True)\n",
        "\n",
        "\n",
        "a=pd.DataFrame(total_data['answ'].value_counts()[:2])\n",
        "ind=list(a.index)"
      ]
    },
    {
      "cell_type": "code",
      "execution_count": null,
      "metadata": {
        "colab": {
          "base_uri": "https://localhost:8080/"
        },
        "id": "n0ivm-VMU1ub",
        "outputId": "37d7c79b-9ef5-4002-91c0-2834f06b2598"
      },
      "outputs": [
        {
          "output_type": "stream",
          "name": "stderr",
          "text": [
            "100%|██████████| 2/2 [00:00<00:00, 61.56it/s]\n"
          ]
        }
      ],
      "source": [
        "top_data=pd.DataFrame()\n",
        "for i in tqdm(ind):\n",
        "    top_data1=total_data[total_data.answ == i]\n",
        "    top_data=pd.concat([top_data,top_data1],ignore_index=True)"
      ]
    },
    {
      "cell_type": "code",
      "execution_count": null,
      "metadata": {
        "colab": {
          "base_uri": "https://localhost:8080/"
        },
        "id": "Ziqx4kpdWFAu",
        "outputId": "240ad7f1-8e23-4eba-aea7-0e78568c8efd"
      },
      "outputs": [
        {
          "output_type": "stream",
          "name": "stdout",
          "text": [
            "Shape of data after considering top 2 answers is (24457, 3)\n"
          ]
        }
      ],
      "source": [
        "print(\"Shape of data after considering top 2 answers is\",top_data.shape)\n"
      ]
    },
    {
      "cell_type": "code",
      "execution_count": null,
      "metadata": {
        "id": "iN5QsL-rWGlj"
      },
      "outputs": [],
      "source": [
        "top_data=top_data.sample(20000).reset_index(drop=True)\n"
      ]
    },
    {
      "cell_type": "code",
      "execution_count": null,
      "metadata": {
        "id": "4oa4fiUiX7ew"
      },
      "outputs": [],
      "source": [
        "top_data.to_csv('/content/drive/MyDrive/FinalProjectKS/top_data.csv',index=False)\n"
      ]
    },
    {
      "cell_type": "code",
      "execution_count": null,
      "metadata": {
        "colab": {
          "base_uri": "https://localhost:8080/",
          "height": 386
        },
        "id": "HQ4WyBdJZNib",
        "outputId": "26ba094d-1f6d-43d3-91e0-5f09437388cd"
      },
      "outputs": [
        {
          "output_type": "display_data",
          "data": {
            "text/plain": [
              "<Figure size 2000x500 with 1 Axes>"
            ],
            "image/png": "[encoded data removed]"
          },
          "metadata": {}
        }
      ],
      "source": [
        "import numpy as np\n",
        "import matplotlib.pyplot as plt\n",
        "import seaborn as sns\n",
        "\n",
        "word_count = top_data['ques'].str.split().apply(len).value_counts()\n",
        "word_dict = dict(word_count)\n",
        "word_dict = dict(sorted(word_dict.items(), key=lambda kv: kv[1],reverse=True))\n",
        "\n",
        "\n",
        "ind = np.arange(len(word_dict))\n",
        "plt.figure(figsize=(20,5))\n",
        "p1 = plt.bar(ind, list(word_dict.values()))\n",
        "\n",
        "plt.ylabel('Number of questions')\n",
        "plt.xlabel('Number of words in questions')\n",
        "plt.title('Words for each question')\n",
        "plt.xticks(ind, list(word_dict.keys()))\n",
        "plt.show()"
      ]
    },
    {
      "cell_type": "code",
      "execution_count": null,
      "metadata": {
        "id": "nXRHw29fZf8M"
      },
      "outputs": [],
      "source": [
        "# Observations\n",
        "# Most of the question lenth is between 4-8\n",
        "# Maximum lengtht of question is 21\n"
      ]
    },
    {
      "cell_type": "code",
      "execution_count": null,
      "metadata": {
        "id": "8E_FTva1av-R"
      },
      "outputs": [],
      "source": [
        "#que_word_count = top_data['ques'].str.split().apply(len)\n",
        "#plt.boxplot(que_word_count)\n",
        "#plt.xticks([1],'questions')\n",
        "#plt.ylabel('Words in questions')\n",
        "#plt.grid()\n",
        "#plt.show()"
      ]
    },
    {
      "cell_type": "code",
      "execution_count": null,
      "metadata": {
        "colab": {
          "base_uri": "https://localhost:8080/",
          "height": 430
        },
        "id": "lpOfm94AbdhA",
        "outputId": "dc88b117-4f90-4e75-aaca-e767d7274c29"
      },
      "outputs": [
        {
          "output_type": "display_data",
          "data": {
            "text/plain": [
              "<Figure size 640x480 with 1 Axes>"
            ],
            "image/png": "[encoded data removed]"
          },
          "metadata": {}
        }
      ],
      "source": [
        "que_word_count = top_data['ques'].str.split().apply(len)\n",
        "plt.boxplot(que_word_count)\n",
        "plt.xticks([1],['questions']) # Changed 'questions' to ['questions']\n",
        "plt.ylabel('Words in questions')\n",
        "plt.grid()\n",
        "plt.show()"
      ]
    },
    {
      "cell_type": "code",
      "execution_count": null,
      "metadata": {
        "id": "O9died_pdvmX"
      },
      "outputs": [],
      "source": [
        "# Observations\n",
        "# 50% of data has around 5 to 8 words\n",
        "# Most of the questions have less than 12 words\n"
      ]
    },
    {
      "cell_type": "code",
      "execution_count": null,
      "metadata": {
        "colab": {
          "base_uri": "https://localhost:8080/",
          "height": 487
        },
        "id": "B8YIBrKAexPg",
        "outputId": "2e5bc2d6-456b-48cb-8514-0ab555d0f1c3"
      },
      "outputs": [
        {
          "output_type": "display_data",
          "data": {
            "text/plain": [
              "<Figure size 1000x500 with 1 Axes>"
            ],
            "image/png": "[encoded data removed]"
          },
          "metadata": {}
        }
      ],
      "source": [
        "word_count = top_data['answ'].value_counts()[0:20]\n",
        "word_dict = dict(word_count)\n",
        "word_dict = dict(sorted(word_dict.items(), key=lambda kv: kv[1],reverse=True))\n",
        "\n",
        "\n",
        "ind = np.arange(len(word_dict))\n",
        "plt.figure(figsize=(10,5))\n",
        "p1 = plt.bar(ind, list(word_dict.values()))\n",
        "\n",
        "plt.ylabel('Count')\n",
        "plt.xlabel('Top 20 answers')\n",
        "plt.title('Count of top 20 answers')\n",
        "plt.xticks(ind, list(word_dict.keys()))\n",
        "plt.show()"
      ]
    },
    {
      "cell_type": "code",
      "execution_count": null,
      "metadata": {
        "colab": {
          "base_uri": "https://localhost:8080/"
        },
        "id": "OFyLPnn0gC0b",
        "outputId": "4071735b-8cc9-4734-daa1-406a3c5373dc"
      },
      "outputs": [
        {
          "output_type": "stream",
          "name": "stdout",
          "text": [
            "Total no of binary(yes/no) answers  : 24457\n",
            "% of binary answers                 : 40.76\n",
            "Total no of multiple answers        : 35543\n",
            "% of multiple answers               : 59.24\n"
          ]
        }
      ],
      "source": [
        "cnt1= total_data[total_data['answ']=='yes']['answ'].count()+total_data[total_data['answ']=='no']['answ'].count()\n",
        "cnt2= len(total_data)-cnt1\n",
        "print(\"Total no of binary(yes/no) answers  :\",cnt1)\n",
        "print(\"% of binary answers                 :\",np.round(cnt1/len(total_data)*100,2))\n",
        "print(\"Total no of multiple answers        :\",cnt2)\n",
        "print(\"% of multiple answers               :\",np.round(cnt2/len(total_data)*100,2))"
      ]
    },
    {
      "cell_type": "code",
      "execution_count": null,
      "metadata": {
        "colab": {
          "base_uri": "https://localhost:8080/",
          "height": 384
        },
        "id": "szwk1CBv796e",
        "outputId": "a239dbcd-558f-4c78-b7dd-b9211f91e955"
      },
      "outputs": [
        {
          "output_type": "display_data",
          "data": {
            "text/plain": [
              "<Figure size 2000x500 with 1 Axes>"
            ],
            "image/png": "[encoded data removed]"
          },
          "metadata": {}
        }
      ],
      "source": [
        "import numpy as np\n",
        "import matplotlib.pyplot as plt\n",
        "import seaborn as sns\n",
        "word_count = total_data['answ'].str.split().apply(len).value_counts()\n",
        "word_dict = dict(word_count)\n",
        "word_dict = dict(sorted(word_dict.items(), key=lambda kv: kv[1],reverse=True))\n",
        "\n",
        "\n",
        "ind = np.arange(len(word_dict))\n",
        "plt.figure(figsize=(20,5))\n",
        "p1 = plt.bar(ind, list(word_dict.values()))\n",
        "\n",
        "plt.ylabel('Number of answers')\n",
        "plt.xlabel('Number of words in answers')\n",
        "plt.title('Words for each answer')\n",
        "plt.xticks(ind, list(word_dict.keys()))\n",
        "plt.show()"
      ]
    },
    {
      "cell_type": "code",
      "execution_count": null,
      "metadata": {
        "id": "rrs6WO-yhgBh"
      },
      "outputs": [],
      "source": [
        "#  #Get the value counts for each class in 'answ' column\n",
        "# value_counts = total_data['answ'].value_counts()\n",
        "\n",
        "# # Filter classes with only one instance\n",
        "# single_instance_classes = value_counts[value_counts == 1]\n",
        "\n",
        "# # Get the number of such classes\n",
        "# num_single_instance_classes = len(single_instance_classes)\n",
        "\n",
        "# print(f\"Number of classes with only one member: {num_single_instance_classes}\")\n",
        "\n",
        "# # Optionally, print the classes with only one instance\n",
        "# print(\"Classes with only one instance:\")\n",
        "# print(single_instance_classes.index.tolist())"
      ]
    },
    {
      "cell_type": "code",
      "execution_count": null,
      "metadata": {
        "id": "_iSpnEimgkRZ"
      },
      "outputs": [],
      "source": [
        "y = top_data['answ']\n",
        "#top_data.drop(['answ'],axis=1,inplace=True)"
      ]
    },
    {
      "cell_type": "code",
      "execution_count": null,
      "metadata": {
        "id": "jRLMFY2dU-oY"
      },
      "outputs": [],
      "source": [
        "from sklearn.model_selection import train_test_split\n",
        "x_train,x_test,y_train,y_test=train_test_split(top_data,y,test_size=0.3,stratify=y,random_state=42)"
      ]
    },
    {
      "cell_type": "code",
      "execution_count": null,
      "metadata": {
        "id": "VaYKXdz2feeX"
      },
      "outputs": [],
      "source": [
        "# from sklearn.model_selection import train_test_split\n",
        "\n",
        "# # Get the value counts for each class in 'answ' column\n",
        "# value_counts = total_data['answ'].value_counts()\n",
        "\n",
        "# # Filter classes with more than one instance\n",
        "# multi_instance_classes = value_counts[value_counts > 1].index\n",
        "\n",
        "# # Filter the DataFrame to include only rows with these classes\n",
        "# filtered_data = total_data[total_data['answ'].isin(multi_instance_classes)]\n",
        "\n",
        "# # Now perform the train-test split on the filtered data\n",
        "# x_train, x_test, y_train, y_test = train_test_split(\n",
        "#     filtered_data.drop('answ', axis=1), filtered_data['answ'], test_size=0.3, stratify=filtered_data['answ'], random_state=42)"
      ]
    },
    {
      "cell_type": "code",
      "execution_count": null,
      "metadata": {
        "id": "X5Zu9WkZvhh2"
      },
      "outputs": [],
      "source": [
        "x_train.to_csv('x_train.csv')\n",
        "x_test.to_csv('x_test.csv')\n",
        "y_train.to_csv('y_train.csv')\n",
        "y_test.to_csv('y_test.csv')"
      ]
    },
    {
      "cell_type": "code",
      "execution_count": null,
      "metadata": {
        "id": "objse2vfvlFK"
      },
      "outputs": [],
      "source": [
        "x_train=pd.read_csv('x_train.csv')\n",
        "x_test=pd.read_csv('x_test.csv')\n",
        "y_train=pd.read_csv('y_train.csv')\n",
        "y_test=pd.read_csv('y_test.csv')"
      ]
    },
    {
      "cell_type": "code",
      "execution_count": null,
      "metadata": {
        "id": "9p6tp2FvwIV1"
      },
      "outputs": [],
      "source": [
        "y_train.drop(['Unnamed: 0'],axis=1,inplace=True)\n",
        "y_test.drop(['Unnamed: 0'],axis=1,inplace=True)\n"
      ]
    },
    {
      "cell_type": "code",
      "execution_count": null,
      "metadata": {
        "colab": {
          "base_uri": "https://localhost:8080/"
        },
        "id": "gCf9H5ewwLZl",
        "outputId": "ee501ea6-afe4-4c88-c719-a54ebcd23e7b"
      },
      "outputs": [
        {
          "output_type": "stream",
          "name": "stdout",
          "text": [
            "Collecting keras_preprocessing\n",
            "  Downloading Keras_Preprocessing-1.1.2-py2.py3-none-any.whl.metadata (1.9 kB)\n",
            "Requirement already satisfied: numpy>=1.9.1 in /usr/local/lib/python3.10/dist-packages (from keras_preprocessing) (1.26.4)\n",
            "Requirement already satisfied: six>=1.9.0 in /usr/local/lib/python3.10/dist-packages (from keras_preprocessing) (1.17.0)\n",
            "Downloading Keras_Preprocessing-1.1.2-py2.py3-none-any.whl (42 kB)\n",
            "\u001b[?25l   \u001b[90m━━━━━━━━━━━━━━━━━━━━━━━━━━━━━━━━━━━━━━━━\u001b[0m \u001b[32m0.0/42.6 kB\u001b[0m \u001b[31m?\u001b[0m eta \u001b[36m-:--:--\u001b[0m\r\u001b[2K   \u001b[90m━━━━━━━━━━━━━━━━━━━━━━━━━━━━━━━━━━━━━━━━\u001b[0m \u001b[32m42.6/42.6 kB\u001b[0m \u001b[31m2.5 MB/s\u001b[0m eta \u001b[36m0:00:00\u001b[0m\n",
            "\u001b[?25hInstalling collected packages: keras_preprocessing\n",
            "Successfully installed keras_preprocessing-1.1.2\n"
          ]
        }
      ],
      "source": [
        "!pip install keras_preprocessing # Install the missing library\n",
        "\n",
        "from keras_preprocessing.image import ImageDataGenerator\n"
      ]
    },
    {
      "cell_type": "code",
      "execution_count": null,
      "metadata": {
        "id": "eDWUa3_4w7Rs"
      },
      "outputs": [],
      "source": [
        "from tensorflow.keras.applications.vgg16 import VGG16\n",
        "from tensorflow.keras.applications.vgg16 import preprocess_input\n",
        "from tensorflow.keras.preprocessing.image import load_img,img_to_array"
      ]
    },
    {
      "cell_type": "code",
      "execution_count": null,
      "metadata": {
        "id": "k6UKnfoXxDbp"
      },
      "outputs": [],
      "source": [
        "def textokenizer(text):\n",
        "  max_length = 24\n",
        "  tok = Tokenizer()\n",
        "  tok.fit_on_texts(x_train['ques'])\n",
        "  vocab_size = len(tok.word_index) + 1\n",
        "  #print('Total unique words in the x_train',vocab_size)\n",
        "  encoded_text = tok.texts_to_sequences(text)\n",
        "  padded_text = pad_sequences(encoded_text, maxlen=max_length)  #padding zeros at the begining of each question so that each sequence will have same length\n",
        "  #print(padded_text.shape)\n",
        "  return padded_text, tok"
      ]
    },
    {
      "cell_type": "code",
      "execution_count": null,
      "metadata": {
        "colab": {
          "base_uri": "https://localhost:8080/"
        },
        "id": "jVFu_QBF1Zxu",
        "outputId": "81576015-e84e-49c9-bdb4-bb3b7766353e"
      },
      "outputs": [
        {
          "output_type": "stream",
          "name": "stdout",
          "text": [
            "Loaded 400001 words from GloVe.\n"
          ]
        }
      ],
      "source": [
        "import numpy as np\n",
        "\n",
        "# Path to the GloVe file (e.g., 'glove.6B.300d.txt' for 300-dimensional vectors)\n",
        "glove_file = '/content/drive/MyDrive/FinalProjectKS/glove.6B.300d.txt'\n",
        "\n",
        "# Load GloVe embeddings into a dictionary\n",
        "glove_model = {}\n",
        "with open(glove_file, 'r', encoding='utf-8') as f:\n",
        "    for line in f:\n",
        "        values = line.split()\n",
        "        word = values[0]\n",
        "        vector = np.asarray(values[1:], dtype='float32')\n",
        "        glove_model[word] = vector\n",
        "\n",
        "print(f\"Loaded {len(glove_model)} words from GloVe.\")\n"
      ]
    },
    {
      "cell_type": "code",
      "execution_count": null,
      "metadata": {
        "id": "RzPA8h7VF6Wj"
      },
      "outputs": [],
      "source": [
        "from tensorflow.keras.preprocessing.text import Tokenizer # Import Tokenizer from tensorflow.keras.preprocessing.text\n",
        "from tensorflow.keras.preprocessing.sequence import pad_sequences # Import pad_sequences\n",
        "\n",
        "def textokenizer(text):\n",
        "  max_length = 24\n",
        "  tok = Tokenizer()\n",
        "  tok.fit_on_texts(x_train['ques'])\n",
        "  vocab_size = len(tok.word_index) + 1\n",
        "  #print('Total unique words in the x_train',vocab_size)\n",
        "  encoded_text = tok.texts_to_sequences(text)\n",
        "  padded_text = pad_sequences(encoded_text, maxlen=max_length)  #padding zeros at the begining of each question so that each sequence will have same length\n",
        "  #print(padded_text.shape)\n",
        "  return padded_text, tok"
      ]
    },
    {
      "cell_type": "code",
      "execution_count": null,
      "metadata": {
        "id": "wIGnxhoQxHoh"
      },
      "outputs": [],
      "source": [
        "model = glove_model  # Use the previously loaded glove_model\n",
        "glove_words = set(model.keys())\n",
        "\n",
        "# for train\n",
        "_, tok = textokenizer(x_train['ques'])\n",
        "vocab_size = len(tok.word_index) + 1\n",
        "embedding_matrix_train = np.zeros((vocab_size, 300))\n",
        "for word, i in tok.word_index.items():\n",
        "    if word in glove_words:\n",
        "        embedding_vector = model[word]\n",
        "        embedding_matrix_train[i] = embedding_vector"
      ]
    },
    {
      "cell_type": "code",
      "execution_count": null,
      "metadata": {
        "colab": {
          "base_uri": "https://localhost:8080/"
        },
        "id": "oevgiUTOF9tO",
        "outputId": "d43a3133-e560-469c-b867-2dc6816abf80"
      },
      "outputs": [
        {
          "output_type": "stream",
          "name": "stdout",
          "text": [
            "embedding matrix shape (2959, 300)\n"
          ]
        }
      ],
      "source": [
        "print(\"embedding matrix shape\",embedding_matrix_train.shape)\n"
      ]
    },
    {
      "cell_type": "code",
      "execution_count": null,
      "metadata": {
        "id": "UzMWBHznGChx"
      },
      "outputs": [],
      "source": [
        "def optokens(classes):\n",
        "  from sklearn.preprocessing import OneHotEncoder\n",
        "  ohe=OneHotEncoder(handle_unknown='ignore')\n",
        "  ohe.fit(y_train.values.reshape(-1,1))\n",
        "  optoken=ohe.transform(classes.values.reshape(-1,1)).toarray()\n",
        "  return optoken, ohe"
      ]
    },
    {
      "cell_type": "code",
      "execution_count": null,
      "metadata": {
        "id": "g9LzYBYtGM9g"
      },
      "outputs": [],
      "source": [
        "_,ohe=optokens(y_train['answ'])\n",
        "\n",
        "#gitbhub code had x_train['answ'], but we had already dfroped it from the df above"
      ]
    },
    {
      "cell_type": "code",
      "execution_count": null,
      "metadata": {
        "id": "KB-cpGqyG_97"
      },
      "outputs": [],
      "source": [
        "import pickle\n",
        "# pickle.dump(ohe,open('ohe.pkl','wb'))\n",
        "pickle.dump(ohe,open('/content/drive/MyDrive/FinalProjectKS/ohe.pkl','wb'))\n"
      ]
    },
    {
      "cell_type": "code",
      "execution_count": null,
      "metadata": {
        "id": "TZCbEY0qHOdC",
        "colab": {
          "base_uri": "https://localhost:8080/"
        },
        "outputId": "c5167230-84ec-4d9e-b74f-7d3e8b9932e2"
      },
      "outputs": [
        {
          "output_type": "stream",
          "name": "stdout",
          "text": [
            "Downloading data from https://storage.googleapis.com/tensorflow/keras-applications/vgg16/vgg16_weights_tf_dim_ordering_tf_kernels.h5\n",
            "\u001b[1m553467096/553467096\u001b[0m \u001b[32m━━━━━━━━━━━━━━━━━━━━\u001b[0m\u001b[37m\u001b[0m \u001b[1m25s\u001b[0m 0us/step\n"
          ]
        }
      ],
      "source": [
        "from tensorflow.keras.applications.vgg16 import VGG16\n",
        "from tensorflow.keras.applications.vgg16 import preprocess_input\n",
        "from tensorflow.keras.preprocessing.image import load_img,img_to_array\n",
        "# Import the 'Model' class from tensorflow.keras.models\n",
        "from tensorflow.keras.models import Model\n",
        "\n",
        "\n",
        "model = VGG16(weights='imagenet')\n",
        "feature_model = Model(inputs=model.inputs, outputs=model.layers[-2].output)"
      ]
    },
    {
      "cell_type": "code",
      "execution_count": null,
      "metadata": {
        "colab": {
          "base_uri": "https://localhost:8080/"
        },
        "id": "qLuDWYjVI23N",
        "outputId": "240d447c-ceca-4ebf-8b2d-0700f9a5e583"
      },
      "outputs": [
        {
          "output_type": "execute_result",
          "data": {
            "text/plain": [
              "13976"
            ]
          },
          "metadata": {},
          "execution_count": 40
        }
      ],
      "source": [
        "len(set(top_data['im_path'].tolist()))\n"
      ]
    },
    {
      "cell_type": "code",
      "execution_count": null,
      "metadata": {
        "id": "nEHiiqIUI-U6"
      },
      "outputs": [],
      "source": [
        "def parse_function(filename):\n",
        "    image_string = tf.io.read_file(filename)\n",
        "    #Don't use tf.image.decode_image, or the output shape will be undefined\n",
        "    image = tf.image.decode_png(image_string, channels=3)\n",
        "    #This will convert to float values in [0, 1]\n",
        "    image = tf.image.convert_image_dtype(image, tf.float32)\n",
        "    image = tf.image.resize(image, [224, 224])\n",
        "    return  image, filename"
      ]
    },
    {
      "cell_type": "code",
      "execution_count": null,
      "metadata": {
        "id": "ZpLDErkFPaWd"
      },
      "outputs": [],
      "source": [
        "# total_data = tota_data[total_data['im_path'].apply(lambda x: os.path.exists(x))]\n",
        "\n",
        "# # this is where igot stuck in the image format and path problem"
      ]
    },
    {
      "cell_type": "code",
      "execution_count": null,
      "metadata": {
        "id": "_FW5w-UqOXOz"
      },
      "outputs": [],
      "source": [
        "# import tensorflow as tf\n",
        "# import os\n",
        "# import numpy as np\n",
        "# from tqdm import tqdm\n",
        "# # Assuming `top_data` DataFrame is defined and has a column `im_path`\n",
        "# # with image names like 'train2015/COCO_train2015_000000000000.jpg'\n",
        "# # We need to correct this to match the actual image names\n",
        "# # which are 'abstract_v002_train2015_000000000000.png'\n",
        "\n",
        "# # 1. Correct the im_path column in top_data DataFrame\n",
        "# def correct_image_path(path):\n",
        "#     image_id = path.split('_')[-1].split('.')[0]  # Extract image ID\n",
        "#     return f\"abstract_v002_train2015_{image_id}.png\"  # Construct correct path\n",
        "\n",
        "# top_data['im_path'] = top_data['im_path'].apply(correct_image_path)\n",
        "\n",
        "# # 2. Proceed with feature extraction\n",
        "# img_fl = sorted(set(top_data['im_path'].astype(str).tolist()))\n",
        "# img_data_tr = tf.data.Dataset.from_tensor_slices(img_fl)\n",
        "\n",
        "# def parse_function(filename):\n",
        "#     filename = tf.cast(filename, tf.string)\n",
        "#     image_string = tf.io.read_file(filename)\n",
        "#     image = tf.image.decode_png(image_string, channels=3)\n",
        "#     image = tf.image.resize(image, [224, 224])\n",
        "#     image = tf.cast(image, tf.float32) / 255.0\n",
        "#     return image, filename\n",
        "\n",
        "# img_data_tr = (\n",
        "#     img_data_tr\n",
        "#     .map(parse_function, num_parallel_calls=tf.data.AUTOTUNE)\n",
        "#     .batch(32)  # Aligned with .map\n",
        "#     .prefetch(buffer_size=tf.data.experimental.AUTOTUNE)  # Aligned with .map\n",
        "# )\n",
        "# for img_batch, paths_batch in tqdm(img_data_tr, desc=\"Processing batches\", total=len(img_fl)//32):\n",
        "#     batch_features = feature_model(img_batch)\n",
        "#     for features, path in zip(batch_features, paths_batch):\n",
        "#         path_of_feature = path.numpy().decode(\"utf-8\")\n",
        "\n",
        "#         # Construct the correct feature save path with a directory\n",
        "#         feature_save_path = os.path.join('/content/drive/MyDrive/FinalProjectKS/preprocessed_images', path_of_feature.replace('.png', '_features.npy'))\n",
        "#         # 'features_directory' is a placeholder, replace it with your desired directory\n",
        "\n",
        "#         # Create directory if it doesn't exist\n",
        "#         feature_dir = os.path.dirname(feature_save_path)\n",
        "#         os.makedirs(feature_dir, exist_ok=True)\n",
        "\n",
        "#         np.save(feature_save_path, features.numpy())"
      ]
    },
    {
      "cell_type": "code",
      "execution_count": null,
      "metadata": {
        "id": "p2mQVaRf2UlV"
      },
      "outputs": [],
      "source": [
        "ques_train , _ =textokenizer(x_train['ques'])\n",
        "answ_train , _ =optokens(y_train['answ'])"
      ]
    },
    {
      "cell_type": "code",
      "execution_count": null,
      "metadata": {
        "id": "23c7g-xf2WvI"
      },
      "outputs": [],
      "source": [
        "ques_train=ques_train.tolist()\n",
        "answ_train=answ_train.tolist()"
      ]
    },
    {
      "cell_type": "code",
      "execution_count": null,
      "metadata": {
        "id": "6td9B4Tw3aic"
      },
      "outputs": [],
      "source": [
        "import os\n",
        "\n",
        "# Assuming features are stored in '/content/drive/MyDrive/FinalProjectKS/preprocessed_images'\n",
        "features_dir = '/content/drive/MyDrive/FinalProjectKS/preprocessed_images'\n",
        "\n",
        "def map_func(img_name, question):\n",
        "    # Construct the full path to the feature file, handling .png extension\n",
        "    # Extract the image ID from the path\n",
        "    image_id = os.path.basename(img_name.decode('utf-8')).split('_')[-1].split('.')[0]\n",
        "    # Construct the path to the feature file using the correct format\n",
        "    img_path = os.path.join(features_dir, f\"abstract_v002_train2015_{image_id}_features.npy\")\n",
        "\n",
        "    img_tensor = np.load(img_path)\n",
        "    img_tensor = img_tensor.reshape(4096,)\n",
        "    question = question.astype(np.int32)\n",
        "    question = question.reshape(max_length,)\n",
        "    return img_tensor, question"
      ]
    },
    {
      "cell_type": "code",
      "execution_count": null,
      "metadata": {
        "id": "astN9QmO3syL"
      },
      "outputs": [],
      "source": [
        "import tensorflow as tf\n",
        "\n",
        "img_fl = x_train['im_path'].tolist()\n",
        "train_dataset = tf.data.Dataset.from_tensor_slices((img_fl, ques_train))\n",
        "\n",
        "max_length = 24  # Define max_length in the global scope\n",
        "\n",
        "# Use map to load the numpy files in parallel\n",
        "train_dataset = train_dataset.map(lambda item1, item2: tf.numpy_function(\n",
        "    map_func, [item1, item2], [tf.float32, tf.int32]),\n",
        "    num_parallel_calls=tf.data.experimental.AUTOTUNE)\n",
        "\n",
        "# Now max_length is accessible within the lambda function\n",
        "train_dataset = train_dataset.map(lambda img, ques: (tf.ensure_shape(img, (4096,)), tf.ensure_shape(ques, (max_length,))))\n",
        "\n",
        "op_train_dataset = tf.data.Dataset.from_tensor_slices(answ_train)\n",
        "train_dataset = tf.data.Dataset.zip((train_dataset, op_train_dataset))\n",
        "\n",
        "\n",
        "train_dataset = train_dataset.batch(1000, drop_remainder=True)  # Added drop_remainder=True\n",
        "train_dataset = train_dataset.map(lambda x, y: ((tf.ensure_shape(x[0], (1000, 4096)), tf.ensure_shape(x[1], (1000, max_length))), tf.ensure_shape(y, (1000, 2))))\n",
        "\n",
        "\n",
        "train_dataset = train_dataset.prefetch(buffer_size=tf.data.experimental.AUTOTUNE)"
      ]
    },
    {
      "cell_type": "code",
      "execution_count": null,
      "metadata": {
        "id": "Xhb5aKIF2Goq"
      },
      "outputs": [],
      "source": [
        "\n",
        "ques_test,_=textokenizer(x_test['ques'])\n",
        "answ_test,_=optokens(y_test['answ'])"
      ]
    },
    {
      "cell_type": "code",
      "execution_count": null,
      "metadata": {
        "id": "zEkJUZ362Mtx"
      },
      "outputs": [],
      "source": [
        "ques_test=ques_test.tolist()\n",
        "answ_test=answ_test.tolist()"
      ]
    },
    {
      "cell_type": "code",
      "execution_count": null,
      "metadata": {
        "id": "TmbMWMVv2cHY"
      },
      "outputs": [],
      "source": [
        "img_fl_te=x_test['im_path'].tolist()\n",
        "test_dataset = tf.data.Dataset.from_tensor_slices((img_fl_te, ques_test))\n",
        "# Use map to load the numpy files in parallel\n",
        "test_dataset = test_dataset.map(lambda item1, item2: tf.numpy_function(\n",
        "          map_func, [item1, item2], [tf.float32, tf.int32]),\n",
        "          num_parallel_calls=tf.data.experimental.AUTOTUNE)\n",
        "op_test_dataset = tf.data.Dataset.from_tensor_slices(answ_test)\n",
        "test_dataset=tf.data.Dataset.zip((test_dataset,op_test_dataset))\n",
        "\n",
        "\n",
        "test_dataset = test_dataset.batch(1000,drop_remainder=True)\n",
        "\n",
        "test_dataset = test_dataset.map(lambda x, y: ((tf.ensure_shape(x[0], (1000, 4096)), tf.ensure_shape(x[1], (1000, max_length))), y))\n",
        "test_dataset = test_dataset.prefetch(buffer_size=tf.data.experimental.AUTOTUNE)"
      ]
    },
    {
      "cell_type": "code",
      "execution_count": null,
      "metadata": {
        "id": "iUYuERu444_N",
        "colab": {
          "base_uri": "https://localhost:8080/"
        },
        "outputId": "6f07f341-cc02-4267-cfd8-b459540a7985"
      },
      "outputs": [
        {
          "output_type": "stream",
          "name": "stdout",
          "text": [
            "ImageDataGenerator\t Model\t Tokenizer\t VGG16\t a\t ans\t answ\t answ_test\t answ_train\t \n",
            "cnt1\t cnt2\t data\t decontracted\t drive\t embedding_matrix_train\t embedding_vector\t f\t feature_model\t \n",
            "features_dir\t glove_file\t glove_model\t glove_words\t i\t im_path\t image_dir\t images\t imdir\t \n",
            "img_fl\t img_fl_te\t img_to_array\t ind\t json\t line\t listdir\t load_img\t map_func\t \n",
            "max_length\t model\t np\t ohe\t op_test_dataset\t op_train_dataset\t optokens\t os\t p1\t \n",
            "pad_sequences\t parse_function\t pd\t pickle\t plt\t preprocess_input\t preprocessed_questions\t que\t que_word_count\t \n",
            "ques\t ques_test\t ques_train\t question\t re\t sns\t subtype\t test_dataset\t textokenizer\t \n",
            "tf\t tok\t top_data\t top_data1\t total_data\t tqdm\t train_dataset\t train_test_split\t values\t \n",
            "vector\t vocab_size\t word\t word_count\t word_dict\t x_test\t x_train\t y\t y_test\t \n",
            "y_train\t \n"
          ]
        }
      ],
      "source": [
        "%who"
      ]
    },
    {
      "cell_type": "code",
      "execution_count": null,
      "metadata": {
        "id": "r8_wRnE5Nv1a"
      },
      "outputs": [],
      "source": [
        "from tensorflow.keras.layers import Input, Dense # Import Input and Dense classes\n",
        "from tensorflow.keras.initializers import he_normal # Import he_normal initializer\n",
        "from tensorflow.keras.models import Model # Import Model class"
      ]
    },
    {
      "cell_type": "code",
      "execution_count": null,
      "metadata": {
        "id": "DXzVSYdZLWf-",
        "colab": {
          "base_uri": "https://localhost:8080/",
          "height": 196
        },
        "outputId": "a9289183-84c4-4be1-c4ad-7ae2c1e8c52c"
      },
      "outputs": [
        {
          "output_type": "display_data",
          "data": {
            "text/plain": [
              "\u001b[1mModel: \"functional_1\"\u001b[0m\n"
            ],
            "text/html": [
              "<pre style=\"white-space:pre;overflow-x:auto;line-height:normal;font-family:Menlo,'DejaVu Sans Mono',consolas,'Courier New',monospace\"><span style=\"font-weight: bold\">Model: \"functional_1\"</span>\n",
              "</pre>\n"
            ]
          },
          "metadata": {}
        },
        {
          "output_type": "display_data",
          "data": {
            "text/plain": [
              "┏━━━━━━━━━━━━━━━━━━━━━━━━━━━━━━━━━━━━━━┳━━━━━━━━━━━━━━━━━━━━━━━━━━━━━┳━━━━━━━━━━━━━━━━━┓\n",
              "┃\u001b[1m \u001b[0m\u001b[1mLayer (type)                        \u001b[0m\u001b[1m \u001b[0m┃\u001b[1m \u001b[0m\u001b[1mOutput Shape               \u001b[0m\u001b[1m \u001b[0m┃\u001b[1m \u001b[0m\u001b[1m        Param #\u001b[0m\u001b[1m \u001b[0m┃\n",
              "┡━━━━━━━━━━━━━━━━━━━━━━━━━━━━━━━━━━━━━━╇━━━━━━━━━━━━━━━━━━━━━━━━━━━━━╇━━━━━━━━━━━━━━━━━┩\n",
              "│ im_input (\u001b[38;5;33mInputLayer\u001b[0m)                │ (\u001b[38;5;45mNone\u001b[0m, \u001b[38;5;34m4096\u001b[0m)                │               \u001b[38;5;34m0\u001b[0m │\n",
              "├──────────────────────────────────────┼─────────────────────────────┼─────────────────┤\n",
              "│ dense (\u001b[38;5;33mDense\u001b[0m)                        │ (\u001b[38;5;45mNone\u001b[0m, \u001b[38;5;34m1024\u001b[0m)                │       \u001b[38;5;34m4,195,328\u001b[0m │\n",
              "└──────────────────────────────────────┴─────────────────────────────┴─────────────────┘\n"
            ],
            "text/html": [
              "<pre style=\"white-space:pre;overflow-x:auto;line-height:normal;font-family:Menlo,'DejaVu Sans Mono',consolas,'Courier New',monospace\">┏━━━━━━━━━━━━━━━━━━━━━━━━━━━━━━━━━━━━━━┳━━━━━━━━━━━━━━━━━━━━━━━━━━━━━┳━━━━━━━━━━━━━━━━━┓\n",
              "┃<span style=\"font-weight: bold\"> Layer (type)                         </span>┃<span style=\"font-weight: bold\"> Output Shape                </span>┃<span style=\"font-weight: bold\">         Param # </span>┃\n",
              "┡━━━━━━━━━━━━━━━━━━━━━━━━━━━━━━━━━━━━━━╇━━━━━━━━━━━━━━━━━━━━━━━━━━━━━╇━━━━━━━━━━━━━━━━━┩\n",
              "│ im_input (<span style=\"color: #0087ff; text-decoration-color: #0087ff\">InputLayer</span>)                │ (<span style=\"color: #00d7ff; text-decoration-color: #00d7ff\">None</span>, <span style=\"color: #00af00; text-decoration-color: #00af00\">4096</span>)                │               <span style=\"color: #00af00; text-decoration-color: #00af00\">0</span> │\n",
              "├──────────────────────────────────────┼─────────────────────────────┼─────────────────┤\n",
              "│ dense (<span style=\"color: #0087ff; text-decoration-color: #0087ff\">Dense</span>)                        │ (<span style=\"color: #00d7ff; text-decoration-color: #00d7ff\">None</span>, <span style=\"color: #00af00; text-decoration-color: #00af00\">1024</span>)                │       <span style=\"color: #00af00; text-decoration-color: #00af00\">4,195,328</span> │\n",
              "└──────────────────────────────────────┴─────────────────────────────┴─────────────────┘\n",
              "</pre>\n"
            ]
          },
          "metadata": {}
        },
        {
          "output_type": "display_data",
          "data": {
            "text/plain": [
              "\u001b[1m Total params: \u001b[0m\u001b[38;5;34m4,195,328\u001b[0m (16.00 MB)\n"
            ],
            "text/html": [
              "<pre style=\"white-space:pre;overflow-x:auto;line-height:normal;font-family:Menlo,'DejaVu Sans Mono',consolas,'Courier New',monospace\"><span style=\"font-weight: bold\"> Total params: </span><span style=\"color: #00af00; text-decoration-color: #00af00\">4,195,328</span> (16.00 MB)\n",
              "</pre>\n"
            ]
          },
          "metadata": {}
        },
        {
          "output_type": "display_data",
          "data": {
            "text/plain": [
              "\u001b[1m Trainable params: \u001b[0m\u001b[38;5;34m4,195,328\u001b[0m (16.00 MB)\n"
            ],
            "text/html": [
              "<pre style=\"white-space:pre;overflow-x:auto;line-height:normal;font-family:Menlo,'DejaVu Sans Mono',consolas,'Courier New',monospace\"><span style=\"font-weight: bold\"> Trainable params: </span><span style=\"color: #00af00; text-decoration-color: #00af00\">4,195,328</span> (16.00 MB)\n",
              "</pre>\n"
            ]
          },
          "metadata": {}
        },
        {
          "output_type": "display_data",
          "data": {
            "text/plain": [
              "\u001b[1m Non-trainable params: \u001b[0m\u001b[38;5;34m0\u001b[0m (0.00 B)\n"
            ],
            "text/html": [
              "<pre style=\"white-space:pre;overflow-x:auto;line-height:normal;font-family:Menlo,'DejaVu Sans Mono',consolas,'Courier New',monospace\"><span style=\"font-weight: bold\"> Non-trainable params: </span><span style=\"color: #00af00; text-decoration-color: #00af00\">0</span> (0.00 B)\n",
              "</pre>\n"
            ]
          },
          "metadata": {}
        }
      ],
      "source": [
        "im_input = Input(shape=(4096,), name = \"im_input\")\n",
        "#flat = Flatten()(im_input)\n",
        "# Instead of initializers.he_normal, use he_normal directly\n",
        "image_model=Dense(1024,activation='relu',kernel_initializer=he_normal(seed=42))(im_input)\n",
        "image_model=Model(inputs=im_input,outputs=image_model)\n",
        "image_model.summary()"
      ]
    },
    {
      "cell_type": "code",
      "execution_count": null,
      "metadata": {
        "id": "lIV-Fn8tODHa"
      },
      "outputs": [],
      "source": [
        "max_length=24\n",
        "vocab_size=embedding_matrix_train.shape[0]"
      ]
    },
    {
      "cell_type": "code",
      "execution_count": null,
      "metadata": {
        "id": "5r6SjN5VOHOg",
        "colab": {
          "base_uri": "https://localhost:8080/",
          "height": 360
        },
        "outputId": "5d27390e-6338-47e8-da1e-ace86f2c4cad"
      },
      "outputs": [
        {
          "output_type": "stream",
          "name": "stderr",
          "text": [
            "/usr/local/lib/python3.10/dist-packages/keras/src/layers/core/embedding.py:90: UserWarning: Argument `input_length` is deprecated. Just remove it.\n",
            "  warnings.warn(\n"
          ]
        },
        {
          "output_type": "display_data",
          "data": {
            "text/plain": [
              "\u001b[1mModel: \"functional_2\"\u001b[0m\n"
            ],
            "text/html": [
              "<pre style=\"white-space:pre;overflow-x:auto;line-height:normal;font-family:Menlo,'DejaVu Sans Mono',consolas,'Courier New',monospace\"><span style=\"font-weight: bold\">Model: \"functional_2\"</span>\n",
              "</pre>\n"
            ]
          },
          "metadata": {}
        },
        {
          "output_type": "display_data",
          "data": {
            "text/plain": [
              "┏━━━━━━━━━━━━━━━━━━━━━━━━━━━━━━━━━━━━━━┳━━━━━━━━━━━━━━━━━━━━━━━━━━━━━┳━━━━━━━━━━━━━━━━━┓\n",
              "┃\u001b[1m \u001b[0m\u001b[1mLayer (type)                        \u001b[0m\u001b[1m \u001b[0m┃\u001b[1m \u001b[0m\u001b[1mOutput Shape               \u001b[0m\u001b[1m \u001b[0m┃\u001b[1m \u001b[0m\u001b[1m        Param #\u001b[0m\u001b[1m \u001b[0m┃\n",
              "┡━━━━━━━━━━━━━━━━━━━━━━━━━━━━━━━━━━━━━━╇━━━━━━━━━━━━━━━━━━━━━━━━━━━━━╇━━━━━━━━━━━━━━━━━┩\n",
              "│ ques_input (\u001b[38;5;33mInputLayer\u001b[0m)              │ (\u001b[38;5;45mNone\u001b[0m, \u001b[38;5;34m24\u001b[0m)                  │               \u001b[38;5;34m0\u001b[0m │\n",
              "├──────────────────────────────────────┼─────────────────────────────┼─────────────────┤\n",
              "│ embedding (\u001b[38;5;33mEmbedding\u001b[0m)                │ (\u001b[38;5;45mNone\u001b[0m, \u001b[38;5;34m24\u001b[0m, \u001b[38;5;34m300\u001b[0m)             │         \u001b[38;5;34m887,700\u001b[0m │\n",
              "├──────────────────────────────────────┼─────────────────────────────┼─────────────────┤\n",
              "│ lstm (\u001b[38;5;33mLSTM\u001b[0m)                          │ (\u001b[38;5;45mNone\u001b[0m, \u001b[38;5;34m24\u001b[0m, \u001b[38;5;34m64\u001b[0m)              │          \u001b[38;5;34m93,440\u001b[0m │\n",
              "├──────────────────────────────────────┼─────────────────────────────┼─────────────────┤\n",
              "│ lstm_1 (\u001b[38;5;33mLSTM\u001b[0m)                        │ (\u001b[38;5;45mNone\u001b[0m, \u001b[38;5;34m24\u001b[0m, \u001b[38;5;34m64\u001b[0m)              │          \u001b[38;5;34m33,024\u001b[0m │\n",
              "├──────────────────────────────────────┼─────────────────────────────┼─────────────────┤\n",
              "│ flatten_1 (\u001b[38;5;33mFlatten\u001b[0m)                  │ (\u001b[38;5;45mNone\u001b[0m, \u001b[38;5;34m1536\u001b[0m)                │               \u001b[38;5;34m0\u001b[0m │\n",
              "├──────────────────────────────────────┼─────────────────────────────┼─────────────────┤\n",
              "│ dense_1 (\u001b[38;5;33mDense\u001b[0m)                      │ (\u001b[38;5;45mNone\u001b[0m, \u001b[38;5;34m1024\u001b[0m)                │       \u001b[38;5;34m1,573,888\u001b[0m │\n",
              "└──────────────────────────────────────┴─────────────────────────────┴─────────────────┘\n"
            ],
            "text/html": [
              "<pre style=\"white-space:pre;overflow-x:auto;line-height:normal;font-family:Menlo,'DejaVu Sans Mono',consolas,'Courier New',monospace\">┏━━━━━━━━━━━━━━━━━━━━━━━━━━━━━━━━━━━━━━┳━━━━━━━━━━━━━━━━━━━━━━━━━━━━━┳━━━━━━━━━━━━━━━━━┓\n",
              "┃<span style=\"font-weight: bold\"> Layer (type)                         </span>┃<span style=\"font-weight: bold\"> Output Shape                </span>┃<span style=\"font-weight: bold\">         Param # </span>┃\n",
              "┡━━━━━━━━━━━━━━━━━━━━━━━━━━━━━━━━━━━━━━╇━━━━━━━━━━━━━━━━━━━━━━━━━━━━━╇━━━━━━━━━━━━━━━━━┩\n",
              "│ ques_input (<span style=\"color: #0087ff; text-decoration-color: #0087ff\">InputLayer</span>)              │ (<span style=\"color: #00d7ff; text-decoration-color: #00d7ff\">None</span>, <span style=\"color: #00af00; text-decoration-color: #00af00\">24</span>)                  │               <span style=\"color: #00af00; text-decoration-color: #00af00\">0</span> │\n",
              "├──────────────────────────────────────┼─────────────────────────────┼─────────────────┤\n",
              "│ embedding (<span style=\"color: #0087ff; text-decoration-color: #0087ff\">Embedding</span>)                │ (<span style=\"color: #00d7ff; text-decoration-color: #00d7ff\">None</span>, <span style=\"color: #00af00; text-decoration-color: #00af00\">24</span>, <span style=\"color: #00af00; text-decoration-color: #00af00\">300</span>)             │         <span style=\"color: #00af00; text-decoration-color: #00af00\">887,700</span> │\n",
              "├──────────────────────────────────────┼─────────────────────────────┼─────────────────┤\n",
              "│ lstm (<span style=\"color: #0087ff; text-decoration-color: #0087ff\">LSTM</span>)                          │ (<span style=\"color: #00d7ff; text-decoration-color: #00d7ff\">None</span>, <span style=\"color: #00af00; text-decoration-color: #00af00\">24</span>, <span style=\"color: #00af00; text-decoration-color: #00af00\">64</span>)              │          <span style=\"color: #00af00; text-decoration-color: #00af00\">93,440</span> │\n",
              "├──────────────────────────────────────┼─────────────────────────────┼─────────────────┤\n",
              "│ lstm_1 (<span style=\"color: #0087ff; text-decoration-color: #0087ff\">LSTM</span>)                        │ (<span style=\"color: #00d7ff; text-decoration-color: #00d7ff\">None</span>, <span style=\"color: #00af00; text-decoration-color: #00af00\">24</span>, <span style=\"color: #00af00; text-decoration-color: #00af00\">64</span>)              │          <span style=\"color: #00af00; text-decoration-color: #00af00\">33,024</span> │\n",
              "├──────────────────────────────────────┼─────────────────────────────┼─────────────────┤\n",
              "│ flatten_1 (<span style=\"color: #0087ff; text-decoration-color: #0087ff\">Flatten</span>)                  │ (<span style=\"color: #00d7ff; text-decoration-color: #00d7ff\">None</span>, <span style=\"color: #00af00; text-decoration-color: #00af00\">1536</span>)                │               <span style=\"color: #00af00; text-decoration-color: #00af00\">0</span> │\n",
              "├──────────────────────────────────────┼─────────────────────────────┼─────────────────┤\n",
              "│ dense_1 (<span style=\"color: #0087ff; text-decoration-color: #0087ff\">Dense</span>)                      │ (<span style=\"color: #00d7ff; text-decoration-color: #00d7ff\">None</span>, <span style=\"color: #00af00; text-decoration-color: #00af00\">1024</span>)                │       <span style=\"color: #00af00; text-decoration-color: #00af00\">1,573,888</span> │\n",
              "└──────────────────────────────────────┴─────────────────────────────┴─────────────────┘\n",
              "</pre>\n"
            ]
          },
          "metadata": {}
        },
        {
          "output_type": "display_data",
          "data": {
            "text/plain": [
              "\u001b[1m Total params: \u001b[0m\u001b[38;5;34m2,588,052\u001b[0m (9.87 MB)\n"
            ],
            "text/html": [
              "<pre style=\"white-space:pre;overflow-x:auto;line-height:normal;font-family:Menlo,'DejaVu Sans Mono',consolas,'Courier New',monospace\"><span style=\"font-weight: bold\"> Total params: </span><span style=\"color: #00af00; text-decoration-color: #00af00\">2,588,052</span> (9.87 MB)\n",
              "</pre>\n"
            ]
          },
          "metadata": {}
        },
        {
          "output_type": "display_data",
          "data": {
            "text/plain": [
              "\u001b[1m Trainable params: \u001b[0m\u001b[38;5;34m1,700,352\u001b[0m (6.49 MB)\n"
            ],
            "text/html": [
              "<pre style=\"white-space:pre;overflow-x:auto;line-height:normal;font-family:Menlo,'DejaVu Sans Mono',consolas,'Courier New',monospace\"><span style=\"font-weight: bold\"> Trainable params: </span><span style=\"color: #00af00; text-decoration-color: #00af00\">1,700,352</span> (6.49 MB)\n",
              "</pre>\n"
            ]
          },
          "metadata": {}
        },
        {
          "output_type": "display_data",
          "data": {
            "text/plain": [
              "\u001b[1m Non-trainable params: \u001b[0m\u001b[38;5;34m887,700\u001b[0m (3.39 MB)\n"
            ],
            "text/html": [
              "<pre style=\"white-space:pre;overflow-x:auto;line-height:normal;font-family:Menlo,'DejaVu Sans Mono',consolas,'Courier New',monospace\"><span style=\"font-weight: bold\"> Non-trainable params: </span><span style=\"color: #00af00; text-decoration-color: #00af00\">887,700</span> (3.39 MB)\n",
              "</pre>\n"
            ]
          },
          "metadata": {}
        }
      ],
      "source": [
        "#QUESTION MODEL\n",
        "# Instead of importing from tensorflow.python.keras.layers, import from tensorflow.keras.layers:\n",
        "from tensorflow.keras.layers import LSTM, Embedding, Flatten, Dense  # Import necessary layers\n",
        "from tensorflow.keras.initializers import he_normal # Import he_normal initializer\n",
        "from tensorflow.keras.regularizers import l2  # Import l2 regularizer from the correct module\n",
        "\n",
        "ques_input = Input(shape=(max_length,), name=\"ques_input\")\n",
        "e1 = Embedding(vocab_size, 300, weights=[embedding_matrix_train], input_length=max_length, trainable=False)(ques_input)\n",
        "l1 = LSTM(64, kernel_initializer=he_normal(seed=42), kernel_regularizer=l2(0.001), return_sequences=True)(e1)\n",
        "l2 = LSTM(64, kernel_initializer=he_normal(seed=42), kernel_regularizer=l2(0.001), return_sequences=True)(l1)\n",
        "# l1= LeakyReLU(alpha = 0.3)(l1)\n",
        "f1 = Flatten(name='flatten_1')(l2)\n",
        "question_model = Dense(1024, activation='relu', kernel_initializer=he_normal(seed=42))(f1)\n",
        "question_model = Model(inputs=ques_input, outputs=question_model)\n",
        "question_model.summary()"
      ]
    },
    {
      "cell_type": "code",
      "execution_count": null,
      "metadata": {
        "id": "eAzoqpjCOnDg",
        "colab": {
          "base_uri": "https://localhost:8080/",
          "height": 603
        },
        "outputId": "3c53164a-e96c-4213-905f-b64b5bbe6b0a"
      },
      "outputs": [
        {
          "output_type": "display_data",
          "data": {
            "text/plain": [
              "\u001b[1mModel: \"functional_3\"\u001b[0m\n"
            ],
            "text/html": [
              "<pre style=\"white-space:pre;overflow-x:auto;line-height:normal;font-family:Menlo,'DejaVu Sans Mono',consolas,'Courier New',monospace\"><span style=\"font-weight: bold\">Model: \"functional_3\"</span>\n",
              "</pre>\n"
            ]
          },
          "metadata": {}
        },
        {
          "output_type": "display_data",
          "data": {
            "text/plain": [
              "┏━━━━━━━━━━━━━━━━━━━━━━━━━━━┳━━━━━━━━━━━━━━━━━━━━━━━━┳━━━━━━━━━━━━━━━━┳━━━━━━━━━━━━━━━━━━━━━━━━┓\n",
              "┃\u001b[1m \u001b[0m\u001b[1mLayer (type)             \u001b[0m\u001b[1m \u001b[0m┃\u001b[1m \u001b[0m\u001b[1mOutput Shape          \u001b[0m\u001b[1m \u001b[0m┃\u001b[1m \u001b[0m\u001b[1m       Param #\u001b[0m\u001b[1m \u001b[0m┃\u001b[1m \u001b[0m\u001b[1mConnected to          \u001b[0m\u001b[1m \u001b[0m┃\n",
              "┡━━━━━━━━━━━━━━━━━━━━━━━━━━━╇━━━━━━━━━━━━━━━━━━━━━━━━╇━━━━━━━━━━━━━━━━╇━━━━━━━━━━━━━━━━━━━━━━━━┩\n",
              "│ ques_input (\u001b[38;5;33mInputLayer\u001b[0m)   │ (\u001b[38;5;45mNone\u001b[0m, \u001b[38;5;34m24\u001b[0m)             │              \u001b[38;5;34m0\u001b[0m │ -                      │\n",
              "├───────────────────────────┼────────────────────────┼────────────────┼────────────────────────┤\n",
              "│ embedding (\u001b[38;5;33mEmbedding\u001b[0m)     │ (\u001b[38;5;45mNone\u001b[0m, \u001b[38;5;34m24\u001b[0m, \u001b[38;5;34m300\u001b[0m)        │        \u001b[38;5;34m887,700\u001b[0m │ ques_input[\u001b[38;5;34m0\u001b[0m][\u001b[38;5;34m0\u001b[0m]       │\n",
              "├───────────────────────────┼────────────────────────┼────────────────┼────────────────────────┤\n",
              "│ lstm (\u001b[38;5;33mLSTM\u001b[0m)               │ (\u001b[38;5;45mNone\u001b[0m, \u001b[38;5;34m24\u001b[0m, \u001b[38;5;34m64\u001b[0m)         │         \u001b[38;5;34m93,440\u001b[0m │ embedding[\u001b[38;5;34m0\u001b[0m][\u001b[38;5;34m0\u001b[0m]        │\n",
              "├───────────────────────────┼────────────────────────┼────────────────┼────────────────────────┤\n",
              "│ lstm_1 (\u001b[38;5;33mLSTM\u001b[0m)             │ (\u001b[38;5;45mNone\u001b[0m, \u001b[38;5;34m24\u001b[0m, \u001b[38;5;34m64\u001b[0m)         │         \u001b[38;5;34m33,024\u001b[0m │ lstm[\u001b[38;5;34m0\u001b[0m][\u001b[38;5;34m0\u001b[0m]             │\n",
              "├───────────────────────────┼────────────────────────┼────────────────┼────────────────────────┤\n",
              "│ im_input (\u001b[38;5;33mInputLayer\u001b[0m)     │ (\u001b[38;5;45mNone\u001b[0m, \u001b[38;5;34m4096\u001b[0m)           │              \u001b[38;5;34m0\u001b[0m │ -                      │\n",
              "├───────────────────────────┼────────────────────────┼────────────────┼────────────────────────┤\n",
              "│ flatten_1 (\u001b[38;5;33mFlatten\u001b[0m)       │ (\u001b[38;5;45mNone\u001b[0m, \u001b[38;5;34m1536\u001b[0m)           │              \u001b[38;5;34m0\u001b[0m │ lstm_1[\u001b[38;5;34m0\u001b[0m][\u001b[38;5;34m0\u001b[0m]           │\n",
              "├───────────────────────────┼────────────────────────┼────────────────┼────────────────────────┤\n",
              "│ dense (\u001b[38;5;33mDense\u001b[0m)             │ (\u001b[38;5;45mNone\u001b[0m, \u001b[38;5;34m1024\u001b[0m)           │      \u001b[38;5;34m4,195,328\u001b[0m │ im_input[\u001b[38;5;34m0\u001b[0m][\u001b[38;5;34m0\u001b[0m]         │\n",
              "├───────────────────────────┼────────────────────────┼────────────────┼────────────────────────┤\n",
              "│ dense_1 (\u001b[38;5;33mDense\u001b[0m)           │ (\u001b[38;5;45mNone\u001b[0m, \u001b[38;5;34m1024\u001b[0m)           │      \u001b[38;5;34m1,573,888\u001b[0m │ flatten_1[\u001b[38;5;34m0\u001b[0m][\u001b[38;5;34m0\u001b[0m]        │\n",
              "├───────────────────────────┼────────────────────────┼────────────────┼────────────────────────┤\n",
              "│ multiply (\u001b[38;5;33mMultiply\u001b[0m)       │ (\u001b[38;5;45mNone\u001b[0m, \u001b[38;5;34m1024\u001b[0m)           │              \u001b[38;5;34m0\u001b[0m │ dense[\u001b[38;5;34m0\u001b[0m][\u001b[38;5;34m0\u001b[0m],           │\n",
              "│                           │                        │                │ dense_1[\u001b[38;5;34m0\u001b[0m][\u001b[38;5;34m0\u001b[0m]          │\n",
              "├───────────────────────────┼────────────────────────┼────────────────┼────────────────────────┤\n",
              "│ batch_normalization       │ (\u001b[38;5;45mNone\u001b[0m, \u001b[38;5;34m1024\u001b[0m)           │          \u001b[38;5;34m4,096\u001b[0m │ multiply[\u001b[38;5;34m0\u001b[0m][\u001b[38;5;34m0\u001b[0m]         │\n",
              "│ (\u001b[38;5;33mBatchNormalization\u001b[0m)      │                        │                │                        │\n",
              "├───────────────────────────┼────────────────────────┼────────────────┼────────────────────────┤\n",
              "│ dropout (\u001b[38;5;33mDropout\u001b[0m)         │ (\u001b[38;5;45mNone\u001b[0m, \u001b[38;5;34m1024\u001b[0m)           │              \u001b[38;5;34m0\u001b[0m │ batch_normalization[\u001b[38;5;34m0\u001b[0m… │\n",
              "├───────────────────────────┼────────────────────────┼────────────────┼────────────────────────┤\n",
              "│ dense_2 (\u001b[38;5;33mDense\u001b[0m)           │ (\u001b[38;5;45mNone\u001b[0m, \u001b[38;5;34m1000\u001b[0m)           │      \u001b[38;5;34m1,025,000\u001b[0m │ dropout[\u001b[38;5;34m0\u001b[0m][\u001b[38;5;34m0\u001b[0m]          │\n",
              "├───────────────────────────┼────────────────────────┼────────────────┼────────────────────────┤\n",
              "│ dense_3 (\u001b[38;5;33mDense\u001b[0m)           │ (\u001b[38;5;45mNone\u001b[0m, \u001b[38;5;34m2\u001b[0m)              │          \u001b[38;5;34m2,002\u001b[0m │ dense_2[\u001b[38;5;34m0\u001b[0m][\u001b[38;5;34m0\u001b[0m]          │\n",
              "└───────────────────────────┴────────────────────────┴────────────────┴────────────────────────┘\n"
            ],
            "text/html": [
              "<pre style=\"white-space:pre;overflow-x:auto;line-height:normal;font-family:Menlo,'DejaVu Sans Mono',consolas,'Courier New',monospace\">┏━━━━━━━━━━━━━━━━━━━━━━━━━━━┳━━━━━━━━━━━━━━━━━━━━━━━━┳━━━━━━━━━━━━━━━━┳━━━━━━━━━━━━━━━━━━━━━━━━┓\n",
              "┃<span style=\"font-weight: bold\"> Layer (type)              </span>┃<span style=\"font-weight: bold\"> Output Shape           </span>┃<span style=\"font-weight: bold\">        Param # </span>┃<span style=\"font-weight: bold\"> Connected to           </span>┃\n",
              "┡━━━━━━━━━━━━━━━━━━━━━━━━━━━╇━━━━━━━━━━━━━━━━━━━━━━━━╇━━━━━━━━━━━━━━━━╇━━━━━━━━━━━━━━━━━━━━━━━━┩\n",
              "│ ques_input (<span style=\"color: #0087ff; text-decoration-color: #0087ff\">InputLayer</span>)   │ (<span style=\"color: #00d7ff; text-decoration-color: #00d7ff\">None</span>, <span style=\"color: #00af00; text-decoration-color: #00af00\">24</span>)             │              <span style=\"color: #00af00; text-decoration-color: #00af00\">0</span> │ -                      │\n",
              "├───────────────────────────┼────────────────────────┼────────────────┼────────────────────────┤\n",
              "│ embedding (<span style=\"color: #0087ff; text-decoration-color: #0087ff\">Embedding</span>)     │ (<span style=\"color: #00d7ff; text-decoration-color: #00d7ff\">None</span>, <span style=\"color: #00af00; text-decoration-color: #00af00\">24</span>, <span style=\"color: #00af00; text-decoration-color: #00af00\">300</span>)        │        <span style=\"color: #00af00; text-decoration-color: #00af00\">887,700</span> │ ques_input[<span style=\"color: #00af00; text-decoration-color: #00af00\">0</span>][<span style=\"color: #00af00; text-decoration-color: #00af00\">0</span>]       │\n",
              "├───────────────────────────┼────────────────────────┼────────────────┼────────────────────────┤\n",
              "│ lstm (<span style=\"color: #0087ff; text-decoration-color: #0087ff\">LSTM</span>)               │ (<span style=\"color: #00d7ff; text-decoration-color: #00d7ff\">None</span>, <span style=\"color: #00af00; text-decoration-color: #00af00\">24</span>, <span style=\"color: #00af00; text-decoration-color: #00af00\">64</span>)         │         <span style=\"color: #00af00; text-decoration-color: #00af00\">93,440</span> │ embedding[<span style=\"color: #00af00; text-decoration-color: #00af00\">0</span>][<span style=\"color: #00af00; text-decoration-color: #00af00\">0</span>]        │\n",
              "├───────────────────────────┼────────────────────────┼────────────────┼────────────────────────┤\n",
              "│ lstm_1 (<span style=\"color: #0087ff; text-decoration-color: #0087ff\">LSTM</span>)             │ (<span style=\"color: #00d7ff; text-decoration-color: #00d7ff\">None</span>, <span style=\"color: #00af00; text-decoration-color: #00af00\">24</span>, <span style=\"color: #00af00; text-decoration-color: #00af00\">64</span>)         │         <span style=\"color: #00af00; text-decoration-color: #00af00\">33,024</span> │ lstm[<span style=\"color: #00af00; text-decoration-color: #00af00\">0</span>][<span style=\"color: #00af00; text-decoration-color: #00af00\">0</span>]             │\n",
              "├───────────────────────────┼────────────────────────┼────────────────┼────────────────────────┤\n",
              "│ im_input (<span style=\"color: #0087ff; text-decoration-color: #0087ff\">InputLayer</span>)     │ (<span style=\"color: #00d7ff; text-decoration-color: #00d7ff\">None</span>, <span style=\"color: #00af00; text-decoration-color: #00af00\">4096</span>)           │              <span style=\"color: #00af00; text-decoration-color: #00af00\">0</span> │ -                      │\n",
              "├───────────────────────────┼────────────────────────┼────────────────┼────────────────────────┤\n",
              "│ flatten_1 (<span style=\"color: #0087ff; text-decoration-color: #0087ff\">Flatten</span>)       │ (<span style=\"color: #00d7ff; text-decoration-color: #00d7ff\">None</span>, <span style=\"color: #00af00; text-decoration-color: #00af00\">1536</span>)           │              <span style=\"color: #00af00; text-decoration-color: #00af00\">0</span> │ lstm_1[<span style=\"color: #00af00; text-decoration-color: #00af00\">0</span>][<span style=\"color: #00af00; text-decoration-color: #00af00\">0</span>]           │\n",
              "├───────────────────────────┼────────────────────────┼────────────────┼────────────────────────┤\n",
              "│ dense (<span style=\"color: #0087ff; text-decoration-color: #0087ff\">Dense</span>)             │ (<span style=\"color: #00d7ff; text-decoration-color: #00d7ff\">None</span>, <span style=\"color: #00af00; text-decoration-color: #00af00\">1024</span>)           │      <span style=\"color: #00af00; text-decoration-color: #00af00\">4,195,328</span> │ im_input[<span style=\"color: #00af00; text-decoration-color: #00af00\">0</span>][<span style=\"color: #00af00; text-decoration-color: #00af00\">0</span>]         │\n",
              "├───────────────────────────┼────────────────────────┼────────────────┼────────────────────────┤\n",
              "│ dense_1 (<span style=\"color: #0087ff; text-decoration-color: #0087ff\">Dense</span>)           │ (<span style=\"color: #00d7ff; text-decoration-color: #00d7ff\">None</span>, <span style=\"color: #00af00; text-decoration-color: #00af00\">1024</span>)           │      <span style=\"color: #00af00; text-decoration-color: #00af00\">1,573,888</span> │ flatten_1[<span style=\"color: #00af00; text-decoration-color: #00af00\">0</span>][<span style=\"color: #00af00; text-decoration-color: #00af00\">0</span>]        │\n",
              "├───────────────────────────┼────────────────────────┼────────────────┼────────────────────────┤\n",
              "│ multiply (<span style=\"color: #0087ff; text-decoration-color: #0087ff\">Multiply</span>)       │ (<span style=\"color: #00d7ff; text-decoration-color: #00d7ff\">None</span>, <span style=\"color: #00af00; text-decoration-color: #00af00\">1024</span>)           │              <span style=\"color: #00af00; text-decoration-color: #00af00\">0</span> │ dense[<span style=\"color: #00af00; text-decoration-color: #00af00\">0</span>][<span style=\"color: #00af00; text-decoration-color: #00af00\">0</span>],           │\n",
              "│                           │                        │                │ dense_1[<span style=\"color: #00af00; text-decoration-color: #00af00\">0</span>][<span style=\"color: #00af00; text-decoration-color: #00af00\">0</span>]          │\n",
              "├───────────────────────────┼────────────────────────┼────────────────┼────────────────────────┤\n",
              "│ batch_normalization       │ (<span style=\"color: #00d7ff; text-decoration-color: #00d7ff\">None</span>, <span style=\"color: #00af00; text-decoration-color: #00af00\">1024</span>)           │          <span style=\"color: #00af00; text-decoration-color: #00af00\">4,096</span> │ multiply[<span style=\"color: #00af00; text-decoration-color: #00af00\">0</span>][<span style=\"color: #00af00; text-decoration-color: #00af00\">0</span>]         │\n",
              "│ (<span style=\"color: #0087ff; text-decoration-color: #0087ff\">BatchNormalization</span>)      │                        │                │                        │\n",
              "├───────────────────────────┼────────────────────────┼────────────────┼────────────────────────┤\n",
              "│ dropout (<span style=\"color: #0087ff; text-decoration-color: #0087ff\">Dropout</span>)         │ (<span style=\"color: #00d7ff; text-decoration-color: #00d7ff\">None</span>, <span style=\"color: #00af00; text-decoration-color: #00af00\">1024</span>)           │              <span style=\"color: #00af00; text-decoration-color: #00af00\">0</span> │ batch_normalization[<span style=\"color: #00af00; text-decoration-color: #00af00\">0</span>… │\n",
              "├───────────────────────────┼────────────────────────┼────────────────┼────────────────────────┤\n",
              "│ dense_2 (<span style=\"color: #0087ff; text-decoration-color: #0087ff\">Dense</span>)           │ (<span style=\"color: #00d7ff; text-decoration-color: #00d7ff\">None</span>, <span style=\"color: #00af00; text-decoration-color: #00af00\">1000</span>)           │      <span style=\"color: #00af00; text-decoration-color: #00af00\">1,025,000</span> │ dropout[<span style=\"color: #00af00; text-decoration-color: #00af00\">0</span>][<span style=\"color: #00af00; text-decoration-color: #00af00\">0</span>]          │\n",
              "├───────────────────────────┼────────────────────────┼────────────────┼────────────────────────┤\n",
              "│ dense_3 (<span style=\"color: #0087ff; text-decoration-color: #0087ff\">Dense</span>)           │ (<span style=\"color: #00d7ff; text-decoration-color: #00d7ff\">None</span>, <span style=\"color: #00af00; text-decoration-color: #00af00\">2</span>)              │          <span style=\"color: #00af00; text-decoration-color: #00af00\">2,002</span> │ dense_2[<span style=\"color: #00af00; text-decoration-color: #00af00\">0</span>][<span style=\"color: #00af00; text-decoration-color: #00af00\">0</span>]          │\n",
              "└───────────────────────────┴────────────────────────┴────────────────┴────────────────────────┘\n",
              "</pre>\n"
            ]
          },
          "metadata": {}
        },
        {
          "output_type": "display_data",
          "data": {
            "text/plain": [
              "\u001b[1m Total params: \u001b[0m\u001b[38;5;34m7,814,478\u001b[0m (29.81 MB)\n"
            ],
            "text/html": [
              "<pre style=\"white-space:pre;overflow-x:auto;line-height:normal;font-family:Menlo,'DejaVu Sans Mono',consolas,'Courier New',monospace\"><span style=\"font-weight: bold\"> Total params: </span><span style=\"color: #00af00; text-decoration-color: #00af00\">7,814,478</span> (29.81 MB)\n",
              "</pre>\n"
            ]
          },
          "metadata": {}
        },
        {
          "output_type": "display_data",
          "data": {
            "text/plain": [
              "\u001b[1m Trainable params: \u001b[0m\u001b[38;5;34m6,924,730\u001b[0m (26.42 MB)\n"
            ],
            "text/html": [
              "<pre style=\"white-space:pre;overflow-x:auto;line-height:normal;font-family:Menlo,'DejaVu Sans Mono',consolas,'Courier New',monospace\"><span style=\"font-weight: bold\"> Trainable params: </span><span style=\"color: #00af00; text-decoration-color: #00af00\">6,924,730</span> (26.42 MB)\n",
              "</pre>\n"
            ]
          },
          "metadata": {}
        },
        {
          "output_type": "display_data",
          "data": {
            "text/plain": [
              "\u001b[1m Non-trainable params: \u001b[0m\u001b[38;5;34m889,748\u001b[0m (3.39 MB)\n"
            ],
            "text/html": [
              "<pre style=\"white-space:pre;overflow-x:auto;line-height:normal;font-family:Menlo,'DejaVu Sans Mono',consolas,'Courier New',monospace\"><span style=\"font-weight: bold\"> Non-trainable params: </span><span style=\"color: #00af00; text-decoration-color: #00af00\">889,748</span> (3.39 MB)\n",
              "</pre>\n"
            ]
          },
          "metadata": {}
        },
        {
          "output_type": "stream",
          "name": "stdout",
          "text": [
            "None\n"
          ]
        }
      ],
      "source": [
        "#COMBINING FEATURES AND MAKING FINAL MODEL FOR PREDICTION\n",
        "from tensorflow.keras.layers import multiply, BatchNormalization # Import BatchNormalization\n",
        "from tensorflow.keras.layers import Dropout\n",
        "from tensorflow.keras.initializers import he_normal # Import he_normal initializer\n",
        "# Import Model class\n",
        "\n",
        "\n",
        "input_model=multiply([image_model.layers[-1].output,question_model.layers[-1].output])\n",
        "d1=BatchNormalization()(input_model) # Now BatchNormalization should be defined\n",
        "d1 = Dropout(0.5)(d1)\n",
        "d1=Dense(1000,activation='relu',kernel_initializer=he_normal(seed=42))(d1)\n",
        "final_output = Dense(2, kernel_initializer=he_normal(seed=42),activation='softmax')(d1)\n",
        "final_model = Model(inputs=[im_input,ques_input], outputs=final_output)\n",
        "print(final_model.summary())"
      ]
    },
    {
      "cell_type": "code",
      "source": [
        "def predict_answer(filename, question, answer):\n",
        "    def textokenizer(text):\n",
        "        max_length = 24\n",
        "        text = [text]\n",
        "        # Make sure tok is defined in this scope or passed as an argument\n",
        "        # Assuming tok was defined when you tokenized your training data\n",
        "        encoded_text = tok.texts_to_sequences(text)\n",
        "        padded_text = pad_sequences(encoded_text, maxlen=max_length)\n",
        "        return padded_text\n",
        "\n",
        "    def optokens(answer):\n",
        "        answer = np.array(answer, dtype=object)\n",
        "        # Assuming ohe was created and pickled earlier\n",
        "        ohe = pickle.load(open('/content/drive/MyDrive/FinalProjectKS/ohe.pkl', 'rb'))\n",
        "        optoken = ohe.transform(answer.reshape(-1, 1)).toarray()\n",
        "        return optoken, ohe\n",
        "\n",
        "    def parse_function(filename):\n",
        "        image_string = tf.io.read_file(filename)\n",
        "        image = tf.image.decode_jpeg(image_string, channels=3)\n",
        "        image = tf.image.convert_image_dtype(image, tf.float32)\n",
        "        image = tf.image.resize(image, [224, 224])\n",
        "        plt.imshow(image)\n",
        "        image = tf.expand_dims(image, axis=0)\n",
        "        return image, filename\n",
        "\n",
        "    # Using VGG16 for feature extraction\n",
        "    from tensorflow.keras.applications.vgg16 import VGG16\n",
        "    from tensorflow.keras.models import Model\n",
        "    model = VGG16(weights='imagenet')\n",
        "    feature_model = Model(inputs=model.inputs, outputs=model.layers[-2].output)\n",
        "\n",
        "    image, _ = parse_function(filename)\n",
        "    image_feature = feature_model(image)\n",
        "    question_feature = textokenizer(question)\n",
        "\n",
        "    # Assuming final_model is your trained model (defined earlier in your code)\n",
        "    # Pass image and question features to your model\n",
        "    answer_vector = final_model.predict([image_feature, question_feature])\n",
        "\n",
        "    _, ohe = optokens(answer)  # Get the OneHotEncoder for inverse transform\n",
        "    predicted_answer = ohe.inverse_transform(answer_vector)\n",
        "    predicted_answer = predicted_answer.tolist()[0][0]\n",
        "    print(\"Question: {}\".format(question))\n",
        "    print(\"Original Answer: {}\".format(answer))\n",
        "    print(\"Predicted Answer: {}\".format(predicted_answer))\n",
        "    return predicted_answer"
      ],
      "metadata": {
        "id": "wHffZEDpslG5"
      },
      "execution_count": null,
      "outputs": []
    },
    {
      "cell_type": "code",
      "source": [
        "# def predict_answer(filename,question,answer):\n",
        "#   def textokenizer(text):\n",
        "#      max_length = 24\n",
        "#      text=[text]\n",
        "#      encoded_text = tok.texts_to_sequences(text)\n",
        "#      padded_text = pad_sequences(encoded_text, maxlen=max_length)  #padding zeros at the begining of each question so that each sequence will have same length\n",
        "#      return  padded_text\n",
        "\n",
        "#   def optokens(answer):\n",
        "#      answer=np.array(answer,dtype=object)\n",
        "#      #ohe=pickle.load(open('/content/drive/My Drive/ohe.pkl','rb'))\n",
        "#      ohe=pickle.load(open('/content/drive/MyDrive/FinalProjectKS/ohe.pkl','rb'))  # Load the pickled encoder\n",
        "#      optoken=ohe.transform(answer.reshape(-1,1)).toarray()\n",
        "#      return optoken, ohe\n",
        "\n",
        "#   def parse_function(filename):\n",
        "#     image_string = tf.io.read_file(filename)\n",
        "#     #Don't use tf.image.decode_image, or the output shape will be undefined\n",
        "#     image = tf.image.decode_jpeg(image_string, channels=3)\n",
        "#     #This will convert to float values in [0, 1]\n",
        "#     image = tf.image.convert_image_dtype(image, tf.float32)\n",
        "#     image = tf.image.resize(image, [224, 224])\n",
        "#     plt.imshow(image)\n",
        "#     image =tf. expand_dims(image, axis=0)\n",
        "#     return  image, filename\n",
        "#   model = VGG16(weights='imagenet')\n",
        "#   feature_model = Model(inputs=model.inputs, outputs=model.layers[-2].output)\n",
        "#   image,_=parse_function(filename)\n",
        "#   image_feature = feature_model(image)\n",
        "#   question_feature = textokenizer(question)\n",
        "#   answer_feature,_ = optokens(answer)\n",
        "#   answer_vector = model2.predict([image_feature,question_feature,answer_feature])\n",
        "#   _,ohe=optokens(answer)\n",
        "#   predicted_answer=ohe.inverse_transform(answer_vector)\n",
        "#   predicted_answer=predicted_answer.tolist()[0][0]\n",
        "#   print(\"Question:{}\".format(question))\n",
        "#   print(\"Original Answer:{}\".format(answer))\n",
        "#   print(\"Predicted Answer:{}\".format(predicted_answer))\n",
        "#   return predicted_answer"
      ],
      "metadata": {
        "id": "M4on9aNHkdi3"
      },
      "execution_count": null,
      "outputs": []
    },
    {
      "cell_type": "code",
      "source": [
        "predict_answer(\"/content/abstract_v002_train2015_000000000056.png\",\"is there a girl in the picture??\",\"No\")"
      ],
      "metadata": {
        "colab": {
          "base_uri": "https://localhost:8080/",
          "height": 522
        },
        "id": "j6tH8_SLkcrB",
        "outputId": "5b03ab93-5c3f-439f-ca22-c1dbfe0a19ec"
      },
      "execution_count": null,
      "outputs": [
        {
          "output_type": "stream",
          "name": "stdout",
          "text": [
            "\u001b[1m1/1\u001b[0m \u001b[32m━━━━━━━━━━━━━━━━━━━━\u001b[0m\u001b[37m\u001b[0m \u001b[1m0s\u001b[0m 18ms/step\n",
            "Question: is there a girl in the picture??\n",
            "Original Answer: No\n",
            "Predicted Answer: no\n"
          ]
        },
        {
          "output_type": "execute_result",
          "data": {
            "text/plain": [
              "'no'"
            ],
            "application/vnd.google.colaboratory.intrinsic+json": {
              "type": "string"
            }
          },
          "metadata": {},
          "execution_count": 69
        },
        {
          "output_type": "display_data",
          "data": {
            "text/plain": [
              "<Figure size 640x480 with 1 Axes>"
            ],
            "image/png": "[encoded data removed]"
          },
          "metadata": {}
        }
      ]
    },
    {
      "cell_type": "code",
      "source": [],
      "metadata": {
        "id": "ytprFytse4Kf"
      },
      "execution_count": null,
      "outputs": []
    },
    {
      "cell_type": "code",
      "execution_count": null,
      "metadata": {
        "id": "zvRkb8mOOv4x"
      },
      "outputs": [],
      "source": [
        "from tensorflow.keras.optimizers import Adam\n",
        "!rm -rf ./logs1/"
      ]
    },
    {
      "cell_type": "code",
      "execution_count": null,
      "metadata": {
        "id": "a6gyHawKO1yG"
      },
      "outputs": [],
      "source": [
        "from tensorflow.keras.callbacks import ModelCheckpoint, EarlyStopping, TensorBoard\n",
        "\n",
        "checkpoint = ModelCheckpoint(\"basic_model1.keras\", # Change here to .h5\n",
        "                             monitor=\"val_loss\",\n",
        "                             mode=\"min\",\n",
        "                             save_best_only = True,\n",
        "                             verbose=1)\n",
        "earlystop= EarlyStopping(monitor = 'val_loss',\n",
        "                            mode=\"min\",\n",
        "                            min_delta = 0,\n",
        "                            patience = 5,\n",
        "                            verbose = 1)\n",
        "\n",
        "# Remove write_grads argument or set it to False\n",
        "tensorboard = TensorBoard(log_dir='logs1', histogram_freq=1)\n",
        "# Alternatively, you can remove it entirely:\n",
        "# tensorboard = TensorBoard(log_dir='logs1', histogram_freq=1)\n",
        "\n",
        "callbacks = [checkpoint,earlystop,tensorboard]"
      ]
    },
    {
      "cell_type": "code",
      "execution_count": null,
      "metadata": {
        "id": "9fFRBFViwxOl"
      },
      "outputs": [],
      "source": [
        "# final_model.compile(optimizer=Adam(learning_rate=0.001), loss='categorical_crossentropy', metrics=['accuracy'])\n",
        "# # Remove workers and use_multiprocessing arguments\n",
        "# h1 = final_model.fit(train_dataset, epochs=5, verbose=1, callbacks=callbacks, validation_data=test_dataset)"
      ]
    },
    {
      "cell_type": "code",
      "execution_count": null,
      "metadata": {
        "id": "4NaF_TX8O1cm"
      },
      "outputs": [],
      "source": [
        "# from tensorflow.keras.models import load_model # Import the load_model function\n",
        "\n",
        "\n",
        "# final_model=load_model('/content/drive/MyDrive/FinalProjectKS/basic_model1.h5')\n"
      ]
    },
    {
      "cell_type": "code",
      "source": [
        "# import numpy as np\n",
        "# from sklearn.metrics import confusion_matrix\n",
        "# import matplotlib.pyplot as plt\n",
        "# import seaborn as sns\n",
        "\n",
        "# # 1. Get predictions from the model\n",
        "# y_pred_probs = final_model.predict(test_dataset)  # Get predicted probabilities\n",
        "# y_pred = np.argmax(y_pred_probs, axis=1)  # Convert probabilities to class labels (0 or 1)\n",
        "\n",
        "# # 2. Get true labels\n",
        "# y_true = np.argmax(np.concatenate([y for _, y in test_dataset], axis=0), axis=1) # Convert one-hot to class labels\n",
        "\n",
        "# # 3. Create confusion matrix\n",
        "# cm = confusion_matrix(y_true, y_pred)\n",
        "\n",
        "# # 4. Visualize confusion matrix\n",
        "# plt.figure(figsize=(8, 6))\n",
        "# sns.heatmap(cm, annot=True, fmt='d', cmap='Blues',\n",
        "#             xticklabels=ohe.categories_[0], yticklabels=ohe.categories_[0])\n",
        "# plt.xlabel('Predicted Label')\n",
        "# plt.ylabel('True Label')\n",
        "# plt.title('Confusion Matrix')\n",
        "# plt.show()"
      ],
      "metadata": {
        "id": "tl4HOkR94RTx"
      },
      "execution_count": null,
      "outputs": []
    },
    {
      "cell_type": "code",
      "source": [
        "# fig=plt.figure(figsize=(20,10))\n",
        "# fig.suptitle('Histogram of Batch norm layer',fontsize=30)\n",
        "# plt.subplot(1,1,1)\n",
        "# plt.imshow(img1)"
      ],
      "metadata": {
        "id": "-GPkVzCh4S25"
      },
      "execution_count": null,
      "outputs": []
    },
    {
      "cell_type": "code",
      "source": [
        "# import numpy as np\n",
        "# from sklearn.metrics import confusion_matrix, accuracy_score, precision_score\n",
        "# import matplotlib.pyplot as plt\n",
        "# import seaborn as sns\n",
        "\n",
        "# # 1. Get predictions from the model\n",
        "# y_pred_probs = final_model.predict(test_dataset)\n",
        "# y_pred = np.argmax(y_pred_probs, axis=1)\n",
        "\n",
        "# # 2. Get true labels\n",
        "# y_true = np.argmax(np.concatenate([y for _, y in test_dataset], axis=0), axis=1)\n",
        "\n",
        "# accuracy = accuracy_score(y_true, y_pred)\n",
        "# precision = precision_score(y_true, y_pred, average='weighted')  # Use 'weighted' for multi-class\n",
        "\n",
        "# # 4. Print metrics\n",
        "# print(f\"Accuracy: {accuracy:.4f}\")\n",
        "# print(f\"Precision: {precision:.4f}\")\n"
      ],
      "metadata": {
        "id": "1EuEFszTn_YQ"
      },
      "execution_count": null,
      "outputs": []
    },
    {
      "cell_type": "code",
      "source": [
        "# Model 2\n"
      ],
      "metadata": {
        "id": "bjo0o9LWxY28"
      },
      "execution_count": null,
      "outputs": []
    },
    {
      "cell_type": "code",
      "source": [
        "# !pip install pytorch-pretrained-bert #installing pytorch_pretrained_bert package\n",
        "\n",
        "# from pytorch_pretrained_bert import BertTokenizer # importing the BertTokenizer"
      ],
      "metadata": {
        "id": "ipnMw1ELziqg"
      },
      "execution_count": null,
      "outputs": []
    },
    {
      "cell_type": "code",
      "source": [
        "# !pip install transformers  # Install the 'transformers' package\n",
        "\n",
        "# from transformers import BertTokenizer\n",
        "# import tensorflow as tf\n",
        "# from transformers import BertTokenizer, BertModel, BertConfig\n",
        "# import tensorflow as tf\n",
        "# from tensorflow.keras.preprocessing.sequence import pad_sequences\n",
        "# from tensorflow.keras.optimizers import Adam\n",
        "# from tensorflow.keras.callbacks import ModelCheckpoint, TensorBoard\n",
        "# from tensorflow.keras import initializers\n",
        "\n",
        "\n",
        "\n",
        "# #BertTokenizer=bert.bert_tokenization.FullTokenizer\n"
      ],
      "metadata": {
        "id": "LpEfYWlB27wr"
      },
      "execution_count": null,
      "outputs": []
    },
    {
      "cell_type": "code",
      "source": [],
      "metadata": {
        "id": "FVqsVuLfR4NC"
      },
      "execution_count": null,
      "outputs": []
    },
    {
      "cell_type": "code",
      "source": [
        "# tokenizer=BertTokenizer.from_pretrained('bert-base-uncased',do_lower_case=True)\n"
      ],
      "metadata": {
        "id": "qRiypTnSDkUu"
      },
      "execution_count": null,
      "outputs": []
    },
    {
      "cell_type": "code",
      "source": [
        "# model_ckpt = \"bert-base-uncased\"  # Or your desired checkpoint path\n",
        "# config = BertConfig.from_pretrained(model_ckpt)  # Load the configuration\n",
        "# l_bert = BertModel.from_pretrained(model_ckpt, config=config)  # Load the model with the configuration\n",
        "\n",
        "\n",
        "# l_bert.trainable=False"
      ],
      "metadata": {
        "id": "NFi_IBJzgf_E"
      },
      "execution_count": null,
      "outputs": []
    },
    {
      "cell_type": "code",
      "source": [
        "# train_tokens = list(map(lambda t: ['[CLS]'] + tokenizer.tokenize(t)[:24] + ['[SEP]'], x_train['ques'].tolist()))\n",
        "# test_tokens = list(map(lambda t: ['[CLS]'] + tokenizer.tokenize(t)[:24] + ['[SEP]'], x_test['ques'].tolist()))"
      ],
      "metadata": {
        "id": "QQTmKOoAD3mu"
      },
      "execution_count": null,
      "outputs": []
    },
    {
      "cell_type": "code",
      "source": [
        "# train_tokens_ids = pad_sequences(list(map(tokenizer.convert_tokens_to_ids, train_tokens)), maxlen=24, truncating=\"post\", padding=\"pre\", dtype=\"int\")\n",
        "# test_tokens_ids = pad_sequences(list(map(tokenizer.convert_tokens_to_ids, test_tokens)), maxlen=24, truncating=\"post\", padding=\"pre\", dtype=\"int\")"
      ],
      "metadata": {
        "id": "OOi8pi1iEIDc"
      },
      "execution_count": null,
      "outputs": []
    },
    {
      "cell_type": "code",
      "source": [
        "# def map_func(img_name, question):\n",
        "#     # Construct the full path to the feature file\n",
        "#     features_dir = '/content/drive/MyDrive/FinalProjectKS/preprocessed_images'\n",
        "#     image_id = os.path.basename(img_name.decode('utf-8')).split('_')[-1].split('.')[0]\n",
        "#     img_path = os.path.join(features_dir, f\"abstract_v002_train2015_{image_id}_features.npy\")\n",
        "\n",
        "#     img_tensor = np.load(img_path)\n",
        "#     img_tensor = img_tensor.reshape(4096,)\n",
        "#     question = question.astype(np.int64)\n",
        "#     question = question.reshape(24,)  # Reshape to (24,)\n",
        "#     return img_tensor, question\n",
        "\n",
        "# train_tokens_ids = tf.convert_to_tensor(train_tokens_ids, dtype=tf.int32)\n",
        "# test_tokens_ids = tf.convert_to_tensor(test_tokens_ids, dtype=tf.int32)"
      ],
      "metadata": {
        "id": "g6vPCppkfVv_"
      },
      "execution_count": null,
      "outputs": []
    },
    {
      "cell_type": "code",
      "source": [
        "# img_fl = x_train['im_path'].tolist()\n",
        "# train_dataset = tf.data.Dataset.from_tensor_slices((img_fl, train_tokens_ids))\n",
        "\n",
        "# # Apply map_func with tf.py_function\n",
        "# train_dataset = train_dataset.map(\n",
        "#     lambda item1, item2: tf.py_function(map_func, [item1, item2], [tf.float32, tf.int32]),\n",
        "#     num_parallel_calls=tf.data.experimental.AUTOTUNE\n",
        "# )\n",
        "\n",
        "# op_train_dataset = tf.data.Dataset.from_tensor_slices(answ_train)\n",
        "# train_dataset = tf.data.Dataset.zip((train_dataset, op_train_dataset))\n",
        "\n",
        "# # Highlighted change: Reshape answers instead of using ensure_shape directly\n",
        "# train_dataset = train_dataset.map(\n",
        "#     lambda img_ques, answ: (\n",
        "#         (tf.ensure_shape(img_ques[0], (4096,)), tf.ensure_shape(img_ques[1], (24,))),\n",
        "#         tf.reshape(answ, (2,))\n",
        "#     )\n",
        "# )\n",
        "\n",
        "# train_dataset = train_dataset.batch(1000, drop_remainder=True)\n",
        "\n",
        "# # Highlighted change: Explicitly set shapes after batching\n",
        "# train_dataset = train_dataset.map(\n",
        "#     lambda x, y: (\n",
        "#         (tf.ensure_shape(x[0], (1000, 4096)), tf.ensure_shape(x[1], (1000, 24))),\n",
        "#         tf.ensure_shape(y, (1000, 2))\n",
        "#     )\n",
        "# )\n",
        "\n",
        "# train_dataset = train_dataset.prefetch(buffer_size=tf.data.experimental.AUTOTUNE)"
      ],
      "metadata": {
        "id": "WXLUU-S3EO7A"
      },
      "execution_count": null,
      "outputs": []
    },
    {
      "cell_type": "code",
      "source": [
        "# img_fl_te = x_test['im_path'].tolist()\n",
        "# test_dataset = tf.data.Dataset.from_tensor_slices((img_fl_te, test_tokens_ids))\n",
        "\n",
        "# test_dataset = test_dataset.map(\n",
        "#     lambda item1, item2: tf.py_function(map_func, [item1, item2], [tf.float32, tf.int32]),\n",
        "#     num_parallel_calls=tf.data.experimental.AUTOTUNE\n",
        "# )\n",
        "\n",
        "# op_test_dataset = tf.data.Dataset.from_tensor_slices(answ_test)\n",
        "# test_dataset = tf.data.Dataset.zip((test_dataset, op_test_dataset))\n",
        "\n",
        "# # Highlighted change: Reshape answers instead of using ensure_shape directly\n",
        "# test_dataset = test_dataset.map(\n",
        "#     lambda img_ques, answ: (\n",
        "#         (tf.ensure_shape(img_ques[0], (4096,)), tf.ensure_shape(img_ques[1], (24,))),\n",
        "#         tf.reshape(answ, (2,))\n",
        "#     )\n",
        "# )\n",
        "\n",
        "# test_dataset = test_dataset.batch(1000, drop_remainder=True)\n",
        "\n",
        "# # Highlighted change: Explicitly set shapes after batching\n",
        "# test_dataset = test_dataset.map(\n",
        "#     lambda x, y: (\n",
        "#         (tf.ensure_shape(x[0], (1000, 4096)), tf.ensure_shape(x[1], (1000, 24))),\n",
        "#         tf.ensure_shape(y, (1000, 2))\n",
        "#     )\n",
        "# )\n",
        "\n",
        "# test_dataset = test_dataset.prefetch(buffer_size=tf.data.experimental.AUTOTUNE)"
      ],
      "metadata": {
        "id": "BFQnqL9bETlY"
      },
      "execution_count": null,
      "outputs": []
    },
    {
      "cell_type": "code",
      "source": [
        "# Model 2 training"
      ],
      "metadata": {
        "id": "Xq8ZgeP8EW8R"
      },
      "execution_count": null,
      "outputs": []
    },
    {
      "cell_type": "code",
      "source": [
        "# !pip install transformers\n",
        "# from transformers import BertTokenizer, BertModel,BertConfig # Importing TFBertModel from transformers"
      ],
      "metadata": {
        "id": "F2pdnnD9E4Dq"
      },
      "execution_count": null,
      "outputs": []
    },
    {
      "cell_type": "code",
      "source": [
        "# def bert_embed(x):\n",
        "#   return l_bert(x).last_hidden_state\n",
        "\n",
        "\n",
        "# ques_inp = tf.keras.layers.Input(shape=(24,), dtype=tf.int64) # Make sure input is int64\n",
        "# # Specify output_shape for the Lambda layer\n",
        "# embed = tf.keras.layers.Lambda(bert_embed, output_shape=(24, 768))(ques_inp) # Wrap with Lambda layer and specify output_shape"
      ],
      "metadata": {
        "id": "4hkb7x4KFatH"
      },
      "execution_count": null,
      "outputs": []
    },
    {
      "cell_type": "code",
      "source": [
        "# def bert_embed(x):\n",
        "#     # Convert the TensorFlow tensor to a PyTorch tensor\n",
        "#     x_pt = torch.tensor(x.numpy())\n",
        "#     # Ensure the BERT model is on the correct device (CPU or GPU)\n",
        "#     # Assuming l_bert is your loaded BERT model\n",
        "#     l_bert.to(x_pt.device)\n",
        "#     # Disable gradient calculation for BERT embeddings\n",
        "#     with torch.no_grad():\n",
        "#         # Get the last hidden state from BERT\n",
        "#         embeddings = l_bert(x_pt).last_hidden_state\n",
        "#     # Convert the embeddings back to a TensorFlow tensor\n",
        "#     return tf.convert_to_tensor(embeddings.numpy(), dtype=tf.float32)\n",
        "\n",
        "# # Input layer for question data\n",
        "# ques_inp = tf.keras.layers.Input(shape=(24,), dtype=tf.int32)\n",
        "\n",
        "# # Lambda layer to apply BERT embedding using tf.py_function\n",
        "# embed = tf.keras.layers.Lambda(\n",
        "#     lambda x: tf.py_function(bert_embed, [x], tf.float32),\n",
        "#     output_shape=(24, 768)\n",
        "# )(ques_inp)\n",
        "# embed = tf.ensure_shape(embed, [None, 24, 768])\n",
        "\n",
        "\n",
        "# # Flatten the BERT embeddings\n",
        "# flat = tf.keras.layers.Flatten()(embed)\n",
        "\n",
        "# # Input layer for image features\n",
        "# image_inp = tf.keras.layers.Input(shape=(4096,))\n",
        "\n",
        "# # Concatenate image features and BERT embeddings\n",
        "# concat = tf.keras.layers.concatenate([image_inp, flat])\n",
        "\n",
        "# # Output layer with 2 units and softmax activation\n",
        "# out = tf.keras.layers.Dense(2, kernel_initializer=initializers.he_normal(seed=42), activation='softmax')(concat)\n",
        "\n",
        "# # Create the Keras model\n",
        "# model = tf.keras.Model(inputs=[image_inp, ques_inp], outputs=out)"
      ],
      "metadata": {
        "id": "GpQRoA2wigvs"
      },
      "execution_count": null,
      "outputs": []
    },
    {
      "cell_type": "code",
      "source": [
        "# train_dataset = train_dataset.map(\n",
        "#     lambda x, y: (\n",
        "#         (tf.ensure_shape(x[0], (1000, 4096)), tf.ensure_shape(x[1], (1000, 24))),\n",
        "#         tf.ensure_shape(y, (1000, 2))\n",
        "#     )\n",
        "# )"
      ],
      "metadata": {
        "id": "Cnr8MSnjBSR4"
      },
      "execution_count": null,
      "outputs": []
    },
    {
      "cell_type": "code",
      "source": [
        "# model.build(input_shape=[(None, 4096), (None, 24)])\n"
      ],
      "metadata": {
        "id": "n2rL9ojNBZqM"
      },
      "execution_count": null,
      "outputs": []
    },
    {
      "cell_type": "code",
      "source": [
        "# def bert_embed(x):\n",
        "#     x_pt = torch.tensor(x.numpy())\n",
        "#     with torch.no_grad():\n",
        "#         embeddings = l_bert(x_pt).last_hidden_state\n",
        "#     tf_tensor = tf.convert_to_tensor(embeddings.numpy())\n",
        "#     print(\"BERT Embed Output Shape:\", tf_tensor.shape)  # Debug output\n",
        "#     return tf_tensor"
      ],
      "metadata": {
        "id": "Mjwp3h5dBdKw"
      },
      "execution_count": null,
      "outputs": []
    },
    {
      "cell_type": "code",
      "source": [
        "# model.summary()\n"
      ],
      "metadata": {
        "id": "QV4iOJDdGD-V"
      },
      "execution_count": null,
      "outputs": []
    },
    {
      "cell_type": "code",
      "source": [
        "#model.build(input_shape=[(None,4096),(None,24)])\n"
      ],
      "metadata": {
        "id": "o5U1a5GKMECi"
      },
      "execution_count": null,
      "outputs": []
    },
    {
      "cell_type": "code",
      "source": [
        "# checkpoint = ModelCheckpoint(\n",
        "#     \"basic_model4.keras\",\n",
        "#     monitor=\"val_loss\",\n",
        "#     mode=\"min\",\n",
        "#     save_best_only=True,\n",
        "#     verbose=1\n",
        "# )\n",
        "# tensorboard = TensorBoard(log_dir='logs1', histogram_freq=1)\n",
        "# callbacks = [checkpoint, tensorboard]"
      ],
      "metadata": {
        "id": "Avw2wGLbdKTM"
      },
      "execution_count": null,
      "outputs": []
    },
    {
      "cell_type": "code",
      "source": [
        "# model.compile(optimizer=Adam(learning_rate=0.001), loss='categorical_crossentropy', metrics=['accuracy'])\n",
        "\n",
        "# # Train the model\n",
        "# h1 = model.fit(train_dataset, epochs=10, verbose=1, callbacks=callbacks, validation_data=test_dataset)"
      ],
      "metadata": {
        "id": "xkb1dm0qdlm8"
      },
      "execution_count": null,
      "outputs": []
    },
    {
      "cell_type": "code",
      "source": [
        "# for batch in train_dataset.take(1):\n",
        "#     print(\"Image input shape:\", batch[0][0].shape)  # Should be (1000, 4096)\n",
        "#     print(\"Question input shape:\", batch[0][1].shape)  # Should be (1000, 24)\n",
        "#     print(\"Output shape:\", batch[1].shape)  # Should be (1000, 2)"
      ],
      "metadata": {
        "id": "hZReU0KKENGO"
      },
      "execution_count": null,
      "outputs": []
    },
    {
      "cell_type": "code",
      "source": [],
      "metadata": {
        "id": "HG1JhyaREO9u"
      },
      "execution_count": null,
      "outputs": []
    }
  ],
  "metadata": {
    "accelerator": "GPU",
    "colab": {
      "gpuType": "T4",
      "provenance": []
    },
    "kernelspec": {
      "display_name": "Python 3",
      "name": "python3"
    },
    "language_info": {
      "name": "python"
    }
  },
  "nbformat": 4,
  "nbformat_minor": 0
}